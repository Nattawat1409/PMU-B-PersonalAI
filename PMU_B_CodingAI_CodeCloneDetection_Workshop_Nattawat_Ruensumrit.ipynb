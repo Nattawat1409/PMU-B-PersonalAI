{
  "cells": [
    {
      "cell_type": "markdown",
      "metadata": {
        "id": "view-in-github",
        "colab_type": "text"
      },
      "source": [
        "<a href=\"https://colab.research.google.com/github/Nattawat1409/PMU-B-PersonalAI/blob/main/Copy_of_PMU_B_CodingAI_CodeCloneDetection_Workshop_Nattawat_Ruensumrit.ipynb\" target=\"_parent\"><img src=\"https://colab.research.google.com/assets/colab-badge.svg\" alt=\"Open In Colab\"/></a>"
      ]
    },
    {
      "cell_type": "markdown",
      "metadata": {
        "id": "V__5urAUIq5n"
      },
      "source": [
        "# Coding Exercise for PMU-B Coding AI - Code Clone Detector"
      ]
    },
    {
      "cell_type": "markdown",
      "metadata": {
        "id": "9atnAK9gI6xz"
      },
      "source": [
        "In this coding exercise, you will try using code2vec to generate code vectors from code snippets and find similar code snippets by using cosine similarity. Please follow the steps below."
      ]
    },
    {
      "cell_type": "markdown",
      "metadata": {
        "id": "8ghYkJ5VImaI"
      },
      "source": [
        "1. Move the main working folder."
      ]
    },
    {
      "cell_type": "code",
      "execution_count": 1,
      "metadata": {
        "id": "i3LhiNE0IC3X",
        "colab": {
          "base_uri": "https://localhost:8080/"
        },
        "outputId": "1e33d452-1a1b-4964-9476-cf3fc1fa966e"
      },
      "outputs": [
        {
          "output_type": "stream",
          "name": "stdout",
          "text": [
            "/content\n"
          ]
        }
      ],
      "source": [
        "cd /content"
      ]
    },
    {
      "cell_type": "markdown",
      "metadata": {
        "id": "WOM_e3D6JFTv"
      },
      "source": [
        "2. Clone the code2vec project to this working folder."
      ]
    },
    {
      "cell_type": "code",
      "execution_count": 2,
      "metadata": {
        "id": "-zyYmOBFV5FJ",
        "colab": {
          "base_uri": "https://localhost:8080/"
        },
        "outputId": "f62c1f85-71bb-4beb-ba84-b506b5d09111"
      },
      "outputs": [
        {
          "output_type": "stream",
          "name": "stdout",
          "text": [
            "Cloning into 'code2vec'...\n",
            "remote: Enumerating objects: 718, done.\u001b[K\n",
            "remote: Counting objects: 100% (14/14), done.\u001b[K\n",
            "remote: Compressing objects: 100% (13/13), done.\u001b[K\n",
            "remote: Total 718 (delta 2), reused 8 (delta 0), pack-reused 704 (from 1)\u001b[K\n",
            "Receiving objects: 100% (718/718), 5.14 MiB | 11.78 MiB/s, done.\n",
            "Resolving deltas: 100% (418/418), done.\n"
          ]
        }
      ],
      "source": [
        "!git clone https://github.com/tech-srl/code2vec.git"
      ]
    },
    {
      "cell_type": "markdown",
      "metadata": {
        "id": "0JFxEYG7SGh2"
      },
      "source": [
        "3. Clone the test data to this working folder."
      ]
    },
    {
      "cell_type": "code",
      "execution_count": 3,
      "metadata": {
        "id": "vd-JJkmNPQLd",
        "colab": {
          "base_uri": "https://localhost:8080/"
        },
        "outputId": "355fe8fe-58d2-4273-c56b-abb46bea54f9"
      },
      "outputs": [
        {
          "output_type": "stream",
          "name": "stdout",
          "text": [
            "Cloning into 'PMUB-CodingAI-CloneData'...\n",
            "remote: Enumerating objects: 43, done.\u001b[K\n",
            "remote: Counting objects:   2% (1/43)\u001b[K\rremote: Counting objects:   4% (2/43)\u001b[K\rremote: Counting objects:   6% (3/43)\u001b[K\rremote: Counting objects:   9% (4/43)\u001b[K\rremote: Counting objects:  11% (5/43)\u001b[K\rremote: Counting objects:  13% (6/43)\u001b[K\rremote: Counting objects:  16% (7/43)\u001b[K\rremote: Counting objects:  18% (8/43)\u001b[K\rremote: Counting objects:  20% (9/43)\u001b[K\rremote: Counting objects:  23% (10/43)\u001b[K\rremote: Counting objects:  25% (11/43)\u001b[K\rremote: Counting objects:  27% (12/43)\u001b[K\rremote: Counting objects:  30% (13/43)\u001b[K\rremote: Counting objects:  32% (14/43)\u001b[K\rremote: Counting objects:  34% (15/43)\u001b[K\rremote: Counting objects:  37% (16/43)\u001b[K\rremote: Counting objects:  39% (17/43)\u001b[K\rremote: Counting objects:  41% (18/43)\u001b[K\rremote: Counting objects:  44% (19/43)\u001b[K\rremote: Counting objects:  46% (20/43)\u001b[K\rremote: Counting objects:  48% (21/43)\u001b[K\rremote: Counting objects:  51% (22/43)\u001b[K\rremote: Counting objects:  53% (23/43)\u001b[K\rremote: Counting objects:  55% (24/43)\u001b[K\rremote: Counting objects:  58% (25/43)\u001b[K\rremote: Counting objects:  60% (26/43)\u001b[K\rremote: Counting objects:  62% (27/43)\u001b[K\rremote: Counting objects:  65% (28/43)\u001b[K\rremote: Counting objects:  67% (29/43)\u001b[K\rremote: Counting objects:  69% (30/43)\u001b[K\rremote: Counting objects:  72% (31/43)\u001b[K\rremote: Counting objects:  74% (32/43)\u001b[K\rremote: Counting objects:  76% (33/43)\u001b[K\rremote: Counting objects:  79% (34/43)\u001b[K\rremote: Counting objects:  81% (35/43)\u001b[K\rremote: Counting objects:  83% (36/43)\u001b[K\rremote: Counting objects:  86% (37/43)\u001b[K\rremote: Counting objects:  88% (38/43)\u001b[K\rremote: Counting objects:  90% (39/43)\u001b[K\rremote: Counting objects:  93% (40/43)\u001b[K\rremote: Counting objects:  95% (41/43)\u001b[K\rremote: Counting objects:  97% (42/43)\u001b[K\rremote: Counting objects: 100% (43/43)\u001b[K\rremote: Counting objects: 100% (43/43), done.\u001b[K\n",
            "remote: Compressing objects:   3% (1/31)\u001b[K\rremote: Compressing objects:   6% (2/31)\u001b[K\rremote: Compressing objects:   9% (3/31)\u001b[K\rremote: Compressing objects:  12% (4/31)\u001b[K\rremote: Compressing objects:  16% (5/31)\u001b[K\rremote: Compressing objects:  19% (6/31)\u001b[K\rremote: Compressing objects:  22% (7/31)\u001b[K\rremote: Compressing objects:  25% (8/31)\u001b[K\rremote: Compressing objects:  29% (9/31)\u001b[K\rremote: Compressing objects:  32% (10/31)\u001b[K\rremote: Compressing objects:  35% (11/31)\u001b[K\rremote: Compressing objects:  38% (12/31)\u001b[K\rremote: Compressing objects:  41% (13/31)\u001b[K\rremote: Compressing objects:  45% (14/31)\u001b[K\rremote: Compressing objects:  48% (15/31)\u001b[K\rremote: Compressing objects:  51% (16/31)\u001b[K\rremote: Compressing objects:  54% (17/31)\u001b[K\rremote: Compressing objects:  58% (18/31)\u001b[K\rremote: Compressing objects:  61% (19/31)\u001b[K\rremote: Compressing objects:  64% (20/31)\u001b[K\rremote: Compressing objects:  67% (21/31)\u001b[K\rremote: Compressing objects:  70% (22/31)\u001b[K\rremote: Compressing objects:  74% (23/31)\u001b[K\rremote: Compressing objects:  77% (24/31)\u001b[K\rremote: Compressing objects:  80% (25/31)\u001b[K\rremote: Compressing objects:  83% (26/31)\u001b[K\rremote: Compressing objects:  87% (27/31)\u001b[K\rremote: Compressing objects:  90% (28/31)\u001b[K\rremote: Compressing objects:  93% (29/31)\u001b[K\rremote: Compressing objects:  96% (30/31)\u001b[K\rremote: Compressing objects: 100% (31/31)\u001b[K\rremote: Compressing objects: 100% (31/31), done.\u001b[K\n",
            "remote: Total 43 (delta 12), reused 39 (delta 11), pack-reused 0 (from 0)\u001b[K\n",
            "Receiving objects: 100% (43/43), 5.91 KiB | 5.91 MiB/s, done.\n",
            "Resolving deltas: 100% (12/12), done.\n"
          ]
        }
      ],
      "source": [
        "!git clone https://github.com/cragkhit/PMUB-CodingAI-CloneData.git"
      ]
    },
    {
      "cell_type": "markdown",
      "metadata": {
        "id": "lgO80xAcJJIR"
      },
      "source": [
        "3. Download the pre-trained code2vec model."
      ]
    },
    {
      "cell_type": "code",
      "execution_count": 4,
      "metadata": {
        "id": "vrfkTrN5eBEs",
        "colab": {
          "base_uri": "https://localhost:8080/"
        },
        "outputId": "f10d4a67-09e8-409e-b727-deadc6be1072"
      },
      "outputs": [
        {
          "output_type": "stream",
          "name": "stdout",
          "text": [
            "--2024-12-13 11:32:33--  https://s3.amazonaws.com/code2vec/model/java14m_model.tar.gz\n",
            "Resolving s3.amazonaws.com (s3.amazonaws.com)... 52.216.109.5, 52.216.26.230, 3.5.24.36, ...\n",
            "Connecting to s3.amazonaws.com (s3.amazonaws.com)|52.216.109.5|:443... connected.\n",
            "HTTP request sent, awaiting response... 200 OK\n",
            "Length: 1440921240 (1.3G) [application/x-tar]\n",
            "Saving to: ‘java14m_model.tar.gz’\n",
            "\n",
            "java14m_model.tar.g 100%[===================>]   1.34G  43.6MB/s    in 33s     \n",
            "\n",
            "2024-12-13 11:33:07 (41.1 MB/s) - ‘java14m_model.tar.gz’ saved [1440921240/1440921240]\n",
            "\n",
            "models/java14_model/saved_model_iter8.release.data-00000-of-00001\n",
            "models/java14_model/saved_model_iter8.release.index\n",
            "models/java14_model/saved_model_iter8.release.meta\n",
            "models/java14_model/dictionaries.bin\n"
          ]
        }
      ],
      "source": [
        "!wget https://s3.amazonaws.com/code2vec/model/java14m_model.tar.gz\n",
        "!tar -xvzf java14m_model.tar.gz"
      ]
    },
    {
      "cell_type": "markdown",
      "metadata": {
        "id": "Nb6zSn6eJOPb"
      },
      "source": [
        "4. Go inside the code2vec project."
      ]
    },
    {
      "cell_type": "code",
      "execution_count": 5,
      "metadata": {
        "id": "dRqx9kdLWDNh",
        "colab": {
          "base_uri": "https://localhost:8080/"
        },
        "outputId": "481514ba-2473-46a3-d75f-eb13d68b2a76"
      },
      "outputs": [
        {
          "output_type": "stream",
          "name": "stdout",
          "text": [
            "/content/code2vec\n"
          ]
        }
      ],
      "source": [
        "cd code2vec/"
      ]
    },
    {
      "cell_type": "markdown",
      "source": [],
      "metadata": {
        "id": "eExwA1N7dI10"
      }
    },
    {
      "cell_type": "markdown",
      "metadata": {
        "id": "h4vnlY3dJRJB"
      },
      "source": [
        "5. Try running code2vec to generate a code vector from the given Input.java file."
      ]
    },
    {
      "cell_type": "code",
      "execution_count": 9,
      "metadata": {
        "id": "tC85FzkWfOqI",
        "colab": {
          "base_uri": "https://localhost:8080/"
        },
        "outputId": "19a90a99-8300-4674-a2d4-569c1b3d3ac0"
      },
      "outputs": [
        {
          "output_type": "stream",
          "name": "stdout",
          "text": [
            "2024-12-13 11:38:13.926052: E external/local_xla/xla/stream_executor/cuda/cuda_fft.cc:485] Unable to register cuFFT factory: Attempting to register factory for plugin cuFFT when one has already been registered\n",
            "2024-12-13 11:38:13.949620: E external/local_xla/xla/stream_executor/cuda/cuda_dnn.cc:8454] Unable to register cuDNN factory: Attempting to register factory for plugin cuDNN when one has already been registered\n",
            "2024-12-13 11:38:13.956145: E external/local_xla/xla/stream_executor/cuda/cuda_blas.cc:1452] Unable to register cuBLAS factory: Attempting to register factory for plugin cuBLAS when one has already been registered\n",
            "2024-12-13 11:38:13.972704: I tensorflow/core/platform/cpu_feature_guard.cc:210] This TensorFlow binary is optimized to use available CPU instructions in performance-critical operations.\n",
            "To enable the following instructions: AVX2 FMA, in other operations, rebuild TensorFlow with the appropriate compiler flags.\n",
            "2024-12-13 11:38:15.448344: W tensorflow/compiler/tf2tensorrt/utils/py_utils.cc:38] TF-TRT Warning: Could not find TensorRT\n",
            "2024-12-13 11:38:17,348 INFO     \n",
            "2024-12-13 11:38:17,348 INFO     \n",
            "2024-12-13 11:38:17,348 INFO     ---------------------------------------------------------------------\n",
            "2024-12-13 11:38:17,348 INFO     ---------------------------------------------------------------------\n",
            "2024-12-13 11:38:17,348 INFO     ---------------------- Creating code2vec model ----------------------\n",
            "2024-12-13 11:38:17,348 INFO     ---------------------------------------------------------------------\n",
            "2024-12-13 11:38:17,349 INFO     ---------------------------------------------------------------------\n",
            "2024-12-13 11:38:17,349 INFO     Checking number of examples ...\n",
            "2024-12-13 11:38:17,349 INFO     ---------------------------------------------------------------------\n",
            "2024-12-13 11:38:17,349 INFO     ----------------- Configuration - Hyper Parameters ------------------\n",
            "2024-12-13 11:38:17,349 INFO     CODE_VECTOR_SIZE                          384\n",
            "2024-12-13 11:38:17,349 INFO     CSV_BUFFER_SIZE                           104857600\n",
            "2024-12-13 11:38:17,349 INFO     DEFAULT_EMBEDDINGS_SIZE                   128\n",
            "2024-12-13 11:38:17,349 INFO     DL_FRAMEWORK                              tensorflow\n",
            "2024-12-13 11:38:17,349 INFO     DROPOUT_KEEP_RATE                         0.75\n",
            "2024-12-13 11:38:17,349 INFO     EXPORT_CODE_VECTORS                       True\n",
            "2024-12-13 11:38:17,349 INFO     LOGS_PATH                                 None\n",
            "2024-12-13 11:38:17,349 INFO     MAX_CONTEXTS                              200\n",
            "2024-12-13 11:38:17,349 INFO     MAX_PATH_VOCAB_SIZE                       911417\n",
            "2024-12-13 11:38:17,349 INFO     MAX_TARGET_VOCAB_SIZE                     261245\n",
            "2024-12-13 11:38:17,349 INFO     MAX_TOKEN_VOCAB_SIZE                      1301136\n",
            "2024-12-13 11:38:17,349 INFO     MAX_TO_KEEP                               10\n",
            "2024-12-13 11:38:17,349 INFO     MODEL_LOAD_PATH                           /content/models/java14_model/saved_model_iter8.release\n",
            "2024-12-13 11:38:17,349 INFO     MODEL_SAVE_PATH                           None\n",
            "2024-12-13 11:38:17,349 INFO     NUM_BATCHES_TO_LOG_PROGRESS               100\n",
            "2024-12-13 11:38:17,350 INFO     NUM_TEST_EXAMPLES                         0\n",
            "2024-12-13 11:38:17,350 INFO     NUM_TRAIN_BATCHES_TO_EVALUATE             1800\n",
            "2024-12-13 11:38:17,350 INFO     NUM_TRAIN_EPOCHS                          20\n",
            "2024-12-13 11:38:17,350 INFO     NUM_TRAIN_EXAMPLES                        0\n",
            "2024-12-13 11:38:17,350 INFO     PATH_EMBEDDINGS_SIZE                      128\n",
            "2024-12-13 11:38:17,350 INFO     PREDICT                                   True\n",
            "2024-12-13 11:38:17,350 INFO     READER_NUM_PARALLEL_BATCHES               6\n",
            "2024-12-13 11:38:17,350 INFO     RELEASE                                   False\n",
            "2024-12-13 11:38:17,350 INFO     SAVE_EVERY_EPOCHS                         1\n",
            "2024-12-13 11:38:17,350 INFO     SAVE_T2V                                  None\n",
            "2024-12-13 11:38:17,350 INFO     SAVE_W2V                                  None\n",
            "2024-12-13 11:38:17,350 INFO     SEPARATE_OOV_AND_PAD                      False\n",
            "2024-12-13 11:38:17,350 INFO     SHUFFLE_BUFFER_SIZE                       10000\n",
            "2024-12-13 11:38:17,350 INFO     TARGET_EMBEDDINGS_SIZE                    384\n",
            "2024-12-13 11:38:17,350 INFO     TEST_BATCH_SIZE                           1024\n",
            "2024-12-13 11:38:17,350 INFO     TEST_DATA_PATH                            \n",
            "2024-12-13 11:38:17,350 INFO     TOKEN_EMBEDDINGS_SIZE                     128\n",
            "2024-12-13 11:38:17,350 INFO     TOP_K_WORDS_CONSIDERED_DURING_PREDICTION  10\n",
            "2024-12-13 11:38:17,350 INFO     TRAIN_BATCH_SIZE                          1024\n",
            "2024-12-13 11:38:17,350 INFO     TRAIN_DATA_PATH_PREFIX                    None\n",
            "2024-12-13 11:38:17,350 INFO     USE_TENSORBOARD                           False\n",
            "2024-12-13 11:38:17,350 INFO     VERBOSE_MODE                              1\n",
            "2024-12-13 11:38:17,351 INFO     _Config__logger                           <Logger code2vec (INFO)>\n",
            "2024-12-13 11:38:17,351 INFO     context_vector_size                       384\n",
            "2024-12-13 11:38:17,351 INFO     entire_model_load_path                    /content/models/java14_model/saved_model_iter8.release__entire-model\n",
            "2024-12-13 11:38:17,351 INFO     entire_model_save_path                    None\n",
            "2024-12-13 11:38:17,351 INFO     is_loading                                True\n",
            "2024-12-13 11:38:17,351 INFO     is_saving                                 False\n",
            "2024-12-13 11:38:17,351 INFO     is_testing                                False\n",
            "2024-12-13 11:38:17,351 INFO     is_training                               False\n",
            "2024-12-13 11:38:17,351 INFO     model_load_dir                            /content/models/java14_model\n",
            "2024-12-13 11:38:17,351 INFO     model_weights_load_path                   /content/models/java14_model/saved_model_iter8.release__only-weights\n",
            "2024-12-13 11:38:17,351 INFO     model_weights_save_path                   None\n",
            "2024-12-13 11:38:17,351 INFO     test_steps                                0\n",
            "2024-12-13 11:38:17,351 INFO     train_data_path                           None\n",
            "2024-12-13 11:38:17,351 INFO     train_steps_per_epoch                     0\n",
            "2024-12-13 11:38:17,351 INFO     word_freq_dict_path                       None\n",
            "2024-12-13 11:38:17,351 INFO     ---------------------------------------------------------------------\n",
            "2024-12-13 11:38:17,351 INFO     Loading model vocabularies from: `/content/models/java14_model/dictionaries.bin` ... \n",
            "2024-12-13 11:38:20,029 INFO     Done loading model vocabularies.\n",
            "2024-12-13 11:38:21,177 INFO     Done creating code2vec model\n",
            "2024-12-13 11:38:30.983383: I tensorflow/compiler/mlir/mlir_graph_optimization_pass.cc:388] MLIR V1 optimization pass is not enabled\n",
            "2024-12-13 11:38:54.531902: W external/local_tsl/tsl/framework/cpu_allocator_impl.cc:83] Allocation of 666036736 exceeds 10% of free system memory.\n",
            "2024-12-13 11:38:57,365 INFO     Initalized variables\n",
            "2024-12-13 11:38:57,376 INFO     Loading model weights from: /content/models/java14_model/saved_model_iter8.release\n",
            "2024-12-13 11:38:59.672272: W external/local_tsl/tsl/framework/cpu_allocator_impl.cc:83] Allocation of 666036736 exceeds 10% of free system memory.\n",
            "2024-12-13 11:39:02,150 INFO     Done loading model weights\n",
            "Starting interactive prediction...\n",
            "Modify the file: \"Input.java\" and press any key when ready, or \"q\" / \"quit\" / \"exit\" to exit\n",
            "\n",
            "Original name:\tbubble|sort\n",
            "\t(0.945059) predicted: ['bubble', 'sort']\n",
            "\t(0.032873) predicted: ['sort']\n",
            "\t(0.007062) predicted: ['real', 'run']\n",
            "\t(0.005401) predicted: ['check', 'sorted']\n",
            "\t(0.002470) predicted: ['deep', 'equals']\n",
            "\t(0.002334) predicted: ['edit', 'distance']\n",
            "\t(0.001619) predicted: ['get', 'points']\n",
            "\t(0.001318) predicted: ['m']\n",
            "\t(0.001132) predicted: ['fill', 'array']\n",
            "\t(0.000731) predicted: ['wait', 'for', 'completion']\n",
            "Attention:\n",
            "0.411918\tcontext: arr,(NameExpr0)^(ArrayAccessExpr)^(BinaryExpr:greater)_(ArrayAccessExpr1)_(BinaryExpr:plus)_(NameExpr0),j\n",
            "0.231893\tcontext: j,(NameExpr0)^(UnaryExpr:posIncrement)^(ForStmt)_(BlockStmt)_(IfStmt)_(BinaryExpr:greater)_(ArrayAccessExpr1)_(BinaryExpr:plus)_(NameExpr0),j\n",
            "0.159408\tcontext: arr,(NameExpr0)^(ArrayAccessExpr)^(BinaryExpr:greater)_(ArrayAccessExpr1)_(BinaryExpr:plus)_(IntegerLiteralExpr1),1\n",
            "0.041400\tcontext: [],(ArrayBracketPair2)^(Parameter)^(MethodDeclaration)_(BlockStmt)_(ForStmt)_(BinaryExpr:less)_(BinaryExpr:minus)_(IntegerLiteralExpr1),1\n",
            "0.024614\tcontext: [],(ArrayBracketPair2)^(Parameter)^(MethodDeclaration)_(BlockStmt)_(ForStmt)_(BinaryExpr:less)_(BinaryExpr:minus)_(NameExpr0),n\n",
            "0.023234\tcontext: 0,(IntegerLiteralExpr1)^(VariableDeclarator)^(VariableDeclarationExpr)^(ForStmt)_(BlockStmt)_(ForStmt)_(BinaryExpr:less)_(BinaryExpr:minus)_(IntegerLiteralExpr1),1\n",
            "0.011933\tcontext: 0,(IntegerLiteralExpr1)^(VariableDeclarator)^(VariableDeclarationExpr)^(ForStmt)_(BlockStmt)_(IfStmt)_(BinaryExpr:greater)_(ArrayAccessExpr1)_(NameExpr0),arr\n",
            "0.010151\tcontext: arr,(NameExpr0)^(ArrayAccessExpr)^(BinaryExpr:greater)^(IfStmt)_(BlockStmt)_(ExpressionStmt)_(VariableDeclarationExpr)_(PrimitiveType0),int\n",
            "0.009958\tcontext: i,(NameExpr0)^(UnaryExpr:posIncrement)^(ForStmt)_(BlockStmt)_(ForStmt)_(BinaryExpr:less)_(BinaryExpr:minus)_(IntegerLiteralExpr1),1\n",
            "0.009675\tcontext: n,(NameExpr0)^(BinaryExpr:minus)^(BinaryExpr:minus)_(IntegerLiteralExpr1),1\n",
            "Code vector:\n",
            "0.2585543 0.018499821 0.6259956 -0.91153747 0.28625304 -0.20867313 -0.6456262 -0.5417256 0.40780866 0.6872428 0.48593658 0.8046063 -0.058023423 0.9426887 0.50868416 -0.7689812 -0.048711807 0.8145132 0.90576255 -0.4059241 -0.74391127 0.48965168 0.8245069 -0.828656 -0.18502949 0.7901077 0.8317792 0.05958824 -0.41710785 -0.36823994 -0.8146068 0.96380293 -0.3221373 -0.09550524 0.23637187 -0.7828237 0.41440326 0.85837746 0.7160746 0.42710906 0.86026746 0.3378421 -0.70190024 0.7926471 0.056065813 -0.13136554 0.3117843 0.95096815 0.7354833 -0.82368445 -0.8954565 0.9326848 -0.3107828 0.9633174 0.72925025 0.47538608 -0.15830268 -0.26773548 -0.3451479 0.9110292 -0.9704323 0.89245063 -0.36032683 -0.8097078 0.75253177 -0.4276203 -0.794744 -0.82304156 -0.6887814 0.710863 0.56362087 -0.6238218 -0.8751205 -0.3165001 0.6918507 -0.1842415 -0.45120537 0.29107818 -0.5739533 0.73044753 0.3992608 -0.922578 0.988397 0.2824617 -0.8427991 0.38545176 0.4091736 -0.80609953 -0.5241765 -0.632769 -0.33627385 -0.59111744 0.7637336 -0.69234073 0.79987144 -0.67139256 0.52384675 0.8215902 0.26926327 0.39738202 0.7637237 0.908195 -0.06851485 0.45429832 0.45621157 -0.44760495 -0.83066213 0.660655 -0.8885989 0.9643333 0.91159624 -0.19610572 -0.6570193 0.9189955 0.6287755 0.6763586 0.57360035 0.8044622 0.15594709 0.86987257 0.74620265 0.12886605 -0.571202 -0.5838734 -0.86150956 -0.14513662 0.40013415 -0.8301816 -0.51929915 -0.030817315 -0.7183518 0.8380968 0.8911851 0.24828035 0.32295215 -0.71240085 0.09927705 0.6977972 -0.36181659 0.15715513 -0.37333328 -0.31196588 0.38934436 -0.92469656 -0.69620156 0.3070417 0.75838226 0.6762587 0.95085883 -0.17747968 0.8302594 -0.7904814 0.009289354 -0.6270039 0.70603025 -0.86139053 0.4391611 -0.49321458 0.11893147 0.35378498 -0.26304317 0.82954895 -0.7937252 -0.8962824 0.014315069 0.94419086 0.31369257 0.8396486 -0.90516067 -0.8517296 0.5741993 0.09025121 0.32149994 -0.407448 -0.8138652 -0.94876003 -0.90316546 0.04230091 0.88919353 0.862079 -0.8170335 -0.2836635 0.29817367 0.4657278 -0.8624352 -0.2972049 0.89199436 0.7192866 0.13736606 -0.45771334 0.42584896 -0.8733409 -0.5144834 0.8192859 -0.30608574 -0.7988642 0.8505364 0.2875224 -0.50170493 -0.52384514 -0.80618596 0.6278152 -0.3438828 0.76336145 -0.75226545 -0.8722351 -0.52575326 -0.14364785 -0.31351382 0.8801849 -0.7223246 -0.3271227 0.33801383 0.3105849 -0.7285458 0.8984863 0.5779065 0.8268541 -0.6937938 -0.98829794 0.21864174 0.81059694 -0.8732749 -0.7421322 -0.9170898 0.9027747 0.82607317 0.3975584 0.9220383 -0.28386205 0.4383269 0.67996085 0.4448021 -0.6450141 -0.9438198 0.86594975 -0.3293671 -0.2583968 -0.578713 0.7339607 0.9436058 -0.7429227 0.19106603 0.50790286 0.2600407 -0.90505517 0.44768518 0.26051855 -0.28993964 -0.7989353 -0.7382976 -0.18344407 -0.92704785 -0.7546607 0.7690079 -0.24674131 0.2615453 0.5772341 -0.748982 0.5510926 0.8089032 0.40525544 -0.76406324 0.3939547 0.79505825 0.5367366 -0.70995283 -0.4599514 -0.2620981 -0.6711366 0.63875073 -0.44605744 0.89179 0.8342139 -0.7565692 -0.78562224 0.7342141 0.8891383 -0.090930864 -0.49500078 0.8654859 -0.13922471 -0.49759448 -0.18394092 -0.87766623 -0.7410369 0.10621585 0.5244047 0.37844017 0.024058223 0.78752095 0.3618247 0.80900633 -0.47821358 0.7984024 -0.9058888 -0.8554216 -0.9068364 -0.35494846 -0.84319997 -0.6036904 0.9042927 0.091635376 -0.11074327 -0.025732026 0.6881312 -0.590453 0.29746282 -0.81246763 -0.60796344 -0.68722814 0.85283047 0.08159642 -0.8570137 -0.85794216 0.67010206 -0.41879058 0.44067448 0.8596295 0.43799293 -0.7416377 0.9268815 -0.1297234 0.23661724 0.48412475 0.67597175 0.9079261 -0.52665836 0.9106679 -0.102124974 -0.15129551 -0.10762298 -0.82400084 0.53838515 0.8150033 -0.63103 -0.043885425 0.0879776 0.42031255 0.8096905 -0.8219237 -0.8045856 0.57258767 0.6340139 -0.08463316 -0.7049768 0.8687426 0.46703827 -0.70616174 0.7590643 0.6358374 0.7428731 0.86755216 0.7167369 0.88154966 0.5573708 0.7230853 0.8245705 0.9620808 -0.3535139 0.981297 -0.30206078 0.80207324 0.20489988 0.77773166 0.85460097 -0.8102501 -0.556245 0.8425517 0.26068026 -0.58346665 -0.944479 -0.10337639 0.8890872 0.764282 -0.13533656 -0.90390754 0.3122697 -0.7101809 -0.45474708 -0.6176752 -0.90628725 -0.50176287 -0.6154723\n",
            "Modify the file: \"Input.java\" and press any key when ready, or \"q\" / \"quit\" / \"exit\" to exit\n",
            "\n",
            "Original name:\tbubble|sort\n",
            "\t(0.945059) predicted: ['bubble', 'sort']\n",
            "\t(0.032873) predicted: ['sort']\n",
            "\t(0.007062) predicted: ['real', 'run']\n",
            "\t(0.005401) predicted: ['check', 'sorted']\n",
            "\t(0.002470) predicted: ['deep', 'equals']\n",
            "\t(0.002334) predicted: ['edit', 'distance']\n",
            "\t(0.001619) predicted: ['get', 'points']\n",
            "\t(0.001318) predicted: ['m']\n",
            "\t(0.001132) predicted: ['fill', 'array']\n",
            "\t(0.000731) predicted: ['wait', 'for', 'completion']\n",
            "Attention:\n",
            "0.411918\tcontext: arr,(NameExpr0)^(ArrayAccessExpr)^(BinaryExpr:greater)_(ArrayAccessExpr1)_(BinaryExpr:plus)_(NameExpr0),j\n",
            "0.231893\tcontext: j,(NameExpr0)^(UnaryExpr:posIncrement)^(ForStmt)_(BlockStmt)_(IfStmt)_(BinaryExpr:greater)_(ArrayAccessExpr1)_(BinaryExpr:plus)_(NameExpr0),j\n",
            "0.159408\tcontext: arr,(NameExpr0)^(ArrayAccessExpr)^(BinaryExpr:greater)_(ArrayAccessExpr1)_(BinaryExpr:plus)_(IntegerLiteralExpr1),1\n",
            "0.041400\tcontext: [],(ArrayBracketPair2)^(Parameter)^(MethodDeclaration)_(BlockStmt)_(ForStmt)_(BinaryExpr:less)_(BinaryExpr:minus)_(IntegerLiteralExpr1),1\n",
            "0.024614\tcontext: [],(ArrayBracketPair2)^(Parameter)^(MethodDeclaration)_(BlockStmt)_(ForStmt)_(BinaryExpr:less)_(BinaryExpr:minus)_(NameExpr0),n\n",
            "0.023234\tcontext: 0,(IntegerLiteralExpr1)^(VariableDeclarator)^(VariableDeclarationExpr)^(ForStmt)_(BlockStmt)_(ForStmt)_(BinaryExpr:less)_(BinaryExpr:minus)_(IntegerLiteralExpr1),1\n",
            "0.011933\tcontext: 0,(IntegerLiteralExpr1)^(VariableDeclarator)^(VariableDeclarationExpr)^(ForStmt)_(BlockStmt)_(IfStmt)_(BinaryExpr:greater)_(ArrayAccessExpr1)_(NameExpr0),arr\n",
            "0.010151\tcontext: arr,(NameExpr0)^(ArrayAccessExpr)^(BinaryExpr:greater)^(IfStmt)_(BlockStmt)_(ExpressionStmt)_(VariableDeclarationExpr)_(PrimitiveType0),int\n",
            "0.009958\tcontext: i,(NameExpr0)^(UnaryExpr:posIncrement)^(ForStmt)_(BlockStmt)_(ForStmt)_(BinaryExpr:less)_(BinaryExpr:minus)_(IntegerLiteralExpr1),1\n",
            "0.009675\tcontext: n,(NameExpr0)^(BinaryExpr:minus)^(BinaryExpr:minus)_(IntegerLiteralExpr1),1\n",
            "Code vector:\n",
            "0.2585543 0.018499821 0.6259956 -0.91153747 0.28625304 -0.20867313 -0.6456262 -0.5417256 0.40780866 0.6872428 0.48593658 0.8046063 -0.058023423 0.9426887 0.50868416 -0.7689812 -0.048711807 0.8145132 0.90576255 -0.4059241 -0.74391127 0.48965168 0.8245069 -0.828656 -0.18502949 0.7901077 0.8317792 0.05958824 -0.41710785 -0.36823994 -0.8146068 0.96380293 -0.3221373 -0.09550524 0.23637187 -0.7828237 0.41440326 0.85837746 0.7160746 0.42710906 0.86026746 0.3378421 -0.70190024 0.7926471 0.056065813 -0.13136554 0.3117843 0.95096815 0.7354833 -0.82368445 -0.8954565 0.9326848 -0.3107828 0.9633174 0.72925025 0.47538608 -0.15830268 -0.26773548 -0.3451479 0.9110292 -0.9704323 0.89245063 -0.36032683 -0.8097078 0.75253177 -0.4276203 -0.794744 -0.82304156 -0.6887814 0.710863 0.56362087 -0.6238218 -0.8751205 -0.3165001 0.6918507 -0.1842415 -0.45120537 0.29107818 -0.5739533 0.73044753 0.3992608 -0.922578 0.988397 0.2824617 -0.8427991 0.38545176 0.4091736 -0.80609953 -0.5241765 -0.632769 -0.33627385 -0.59111744 0.7637336 -0.69234073 0.79987144 -0.67139256 0.52384675 0.8215902 0.26926327 0.39738202 0.7637237 0.908195 -0.06851485 0.45429832 0.45621157 -0.44760495 -0.83066213 0.660655 -0.8885989 0.9643333 0.91159624 -0.19610572 -0.6570193 0.9189955 0.6287755 0.6763586 0.57360035 0.8044622 0.15594709 0.86987257 0.74620265 0.12886605 -0.571202 -0.5838734 -0.86150956 -0.14513662 0.40013415 -0.8301816 -0.51929915 -0.030817315 -0.7183518 0.8380968 0.8911851 0.24828035 0.32295215 -0.71240085 0.09927705 0.6977972 -0.36181659 0.15715513 -0.37333328 -0.31196588 0.38934436 -0.92469656 -0.69620156 0.3070417 0.75838226 0.6762587 0.95085883 -0.17747968 0.8302594 -0.7904814 0.009289354 -0.6270039 0.70603025 -0.86139053 0.4391611 -0.49321458 0.11893147 0.35378498 -0.26304317 0.82954895 -0.7937252 -0.8962824 0.014315069 0.94419086 0.31369257 0.8396486 -0.90516067 -0.8517296 0.5741993 0.09025121 0.32149994 -0.407448 -0.8138652 -0.94876003 -0.90316546 0.04230091 0.88919353 0.862079 -0.8170335 -0.2836635 0.29817367 0.4657278 -0.8624352 -0.2972049 0.89199436 0.7192866 0.13736606 -0.45771334 0.42584896 -0.8733409 -0.5144834 0.8192859 -0.30608574 -0.7988642 0.8505364 0.2875224 -0.50170493 -0.52384514 -0.80618596 0.6278152 -0.3438828 0.76336145 -0.75226545 -0.8722351 -0.52575326 -0.14364785 -0.31351382 0.8801849 -0.7223246 -0.3271227 0.33801383 0.3105849 -0.7285458 0.8984863 0.5779065 0.8268541 -0.6937938 -0.98829794 0.21864174 0.81059694 -0.8732749 -0.7421322 -0.9170898 0.9027747 0.82607317 0.3975584 0.9220383 -0.28386205 0.4383269 0.67996085 0.4448021 -0.6450141 -0.9438198 0.86594975 -0.3293671 -0.2583968 -0.578713 0.7339607 0.9436058 -0.7429227 0.19106603 0.50790286 0.2600407 -0.90505517 0.44768518 0.26051855 -0.28993964 -0.7989353 -0.7382976 -0.18344407 -0.92704785 -0.7546607 0.7690079 -0.24674131 0.2615453 0.5772341 -0.748982 0.5510926 0.8089032 0.40525544 -0.76406324 0.3939547 0.79505825 0.5367366 -0.70995283 -0.4599514 -0.2620981 -0.6711366 0.63875073 -0.44605744 0.89179 0.8342139 -0.7565692 -0.78562224 0.7342141 0.8891383 -0.090930864 -0.49500078 0.8654859 -0.13922471 -0.49759448 -0.18394092 -0.87766623 -0.7410369 0.10621585 0.5244047 0.37844017 0.024058223 0.78752095 0.3618247 0.80900633 -0.47821358 0.7984024 -0.9058888 -0.8554216 -0.9068364 -0.35494846 -0.84319997 -0.6036904 0.9042927 0.091635376 -0.11074327 -0.025732026 0.6881312 -0.590453 0.29746282 -0.81246763 -0.60796344 -0.68722814 0.85283047 0.08159642 -0.8570137 -0.85794216 0.67010206 -0.41879058 0.44067448 0.8596295 0.43799293 -0.7416377 0.9268815 -0.1297234 0.23661724 0.48412475 0.67597175 0.9079261 -0.52665836 0.9106679 -0.102124974 -0.15129551 -0.10762298 -0.82400084 0.53838515 0.8150033 -0.63103 -0.043885425 0.0879776 0.42031255 0.8096905 -0.8219237 -0.8045856 0.57258767 0.6340139 -0.08463316 -0.7049768 0.8687426 0.46703827 -0.70616174 0.7590643 0.6358374 0.7428731 0.86755216 0.7167369 0.88154966 0.5573708 0.7230853 0.8245705 0.9620808 -0.3535139 0.981297 -0.30206078 0.80207324 0.20489988 0.77773166 0.85460097 -0.8102501 -0.556245 0.8425517 0.26068026 -0.58346665 -0.944479 -0.10337639 0.8890872 0.764282 -0.13533656 -0.90390754 0.3122697 -0.7101809 -0.45474708 -0.6176752 -0.90628725 -0.50176287 -0.6154723\n",
            "Modify the file: \"Input.java\" and press any key when ready, or \"q\" / \"quit\" / \"exit\" to exit\n",
            "\n",
            "Original name:\tbubble|sort\n",
            "\t(0.945059) predicted: ['bubble', 'sort']\n",
            "\t(0.032873) predicted: ['sort']\n",
            "\t(0.007062) predicted: ['real', 'run']\n",
            "\t(0.005401) predicted: ['check', 'sorted']\n",
            "\t(0.002470) predicted: ['deep', 'equals']\n",
            "\t(0.002334) predicted: ['edit', 'distance']\n",
            "\t(0.001619) predicted: ['get', 'points']\n",
            "\t(0.001318) predicted: ['m']\n",
            "\t(0.001132) predicted: ['fill', 'array']\n",
            "\t(0.000731) predicted: ['wait', 'for', 'completion']\n",
            "Attention:\n",
            "0.411918\tcontext: arr,(NameExpr0)^(ArrayAccessExpr)^(BinaryExpr:greater)_(ArrayAccessExpr1)_(BinaryExpr:plus)_(NameExpr0),j\n",
            "0.231893\tcontext: j,(NameExpr0)^(UnaryExpr:posIncrement)^(ForStmt)_(BlockStmt)_(IfStmt)_(BinaryExpr:greater)_(ArrayAccessExpr1)_(BinaryExpr:plus)_(NameExpr0),j\n",
            "0.159408\tcontext: arr,(NameExpr0)^(ArrayAccessExpr)^(BinaryExpr:greater)_(ArrayAccessExpr1)_(BinaryExpr:plus)_(IntegerLiteralExpr1),1\n",
            "0.041400\tcontext: [],(ArrayBracketPair2)^(Parameter)^(MethodDeclaration)_(BlockStmt)_(ForStmt)_(BinaryExpr:less)_(BinaryExpr:minus)_(IntegerLiteralExpr1),1\n",
            "0.024614\tcontext: [],(ArrayBracketPair2)^(Parameter)^(MethodDeclaration)_(BlockStmt)_(ForStmt)_(BinaryExpr:less)_(BinaryExpr:minus)_(NameExpr0),n\n",
            "0.023234\tcontext: 0,(IntegerLiteralExpr1)^(VariableDeclarator)^(VariableDeclarationExpr)^(ForStmt)_(BlockStmt)_(ForStmt)_(BinaryExpr:less)_(BinaryExpr:minus)_(IntegerLiteralExpr1),1\n",
            "0.011933\tcontext: 0,(IntegerLiteralExpr1)^(VariableDeclarator)^(VariableDeclarationExpr)^(ForStmt)_(BlockStmt)_(IfStmt)_(BinaryExpr:greater)_(ArrayAccessExpr1)_(NameExpr0),arr\n",
            "0.010151\tcontext: arr,(NameExpr0)^(ArrayAccessExpr)^(BinaryExpr:greater)^(IfStmt)_(BlockStmt)_(ExpressionStmt)_(VariableDeclarationExpr)_(PrimitiveType0),int\n",
            "0.009958\tcontext: i,(NameExpr0)^(UnaryExpr:posIncrement)^(ForStmt)_(BlockStmt)_(ForStmt)_(BinaryExpr:less)_(BinaryExpr:minus)_(IntegerLiteralExpr1),1\n",
            "0.009675\tcontext: n,(NameExpr0)^(BinaryExpr:minus)^(BinaryExpr:minus)_(IntegerLiteralExpr1),1\n",
            "Code vector:\n",
            "0.2585543 0.018499821 0.6259956 -0.91153747 0.28625304 -0.20867313 -0.6456262 -0.5417256 0.40780866 0.6872428 0.48593658 0.8046063 -0.058023423 0.9426887 0.50868416 -0.7689812 -0.048711807 0.8145132 0.90576255 -0.4059241 -0.74391127 0.48965168 0.8245069 -0.828656 -0.18502949 0.7901077 0.8317792 0.05958824 -0.41710785 -0.36823994 -0.8146068 0.96380293 -0.3221373 -0.09550524 0.23637187 -0.7828237 0.41440326 0.85837746 0.7160746 0.42710906 0.86026746 0.3378421 -0.70190024 0.7926471 0.056065813 -0.13136554 0.3117843 0.95096815 0.7354833 -0.82368445 -0.8954565 0.9326848 -0.3107828 0.9633174 0.72925025 0.47538608 -0.15830268 -0.26773548 -0.3451479 0.9110292 -0.9704323 0.89245063 -0.36032683 -0.8097078 0.75253177 -0.4276203 -0.794744 -0.82304156 -0.6887814 0.710863 0.56362087 -0.6238218 -0.8751205 -0.3165001 0.6918507 -0.1842415 -0.45120537 0.29107818 -0.5739533 0.73044753 0.3992608 -0.922578 0.988397 0.2824617 -0.8427991 0.38545176 0.4091736 -0.80609953 -0.5241765 -0.632769 -0.33627385 -0.59111744 0.7637336 -0.69234073 0.79987144 -0.67139256 0.52384675 0.8215902 0.26926327 0.39738202 0.7637237 0.908195 -0.06851485 0.45429832 0.45621157 -0.44760495 -0.83066213 0.660655 -0.8885989 0.9643333 0.91159624 -0.19610572 -0.6570193 0.9189955 0.6287755 0.6763586 0.57360035 0.8044622 0.15594709 0.86987257 0.74620265 0.12886605 -0.571202 -0.5838734 -0.86150956 -0.14513662 0.40013415 -0.8301816 -0.51929915 -0.030817315 -0.7183518 0.8380968 0.8911851 0.24828035 0.32295215 -0.71240085 0.09927705 0.6977972 -0.36181659 0.15715513 -0.37333328 -0.31196588 0.38934436 -0.92469656 -0.69620156 0.3070417 0.75838226 0.6762587 0.95085883 -0.17747968 0.8302594 -0.7904814 0.009289354 -0.6270039 0.70603025 -0.86139053 0.4391611 -0.49321458 0.11893147 0.35378498 -0.26304317 0.82954895 -0.7937252 -0.8962824 0.014315069 0.94419086 0.31369257 0.8396486 -0.90516067 -0.8517296 0.5741993 0.09025121 0.32149994 -0.407448 -0.8138652 -0.94876003 -0.90316546 0.04230091 0.88919353 0.862079 -0.8170335 -0.2836635 0.29817367 0.4657278 -0.8624352 -0.2972049 0.89199436 0.7192866 0.13736606 -0.45771334 0.42584896 -0.8733409 -0.5144834 0.8192859 -0.30608574 -0.7988642 0.8505364 0.2875224 -0.50170493 -0.52384514 -0.80618596 0.6278152 -0.3438828 0.76336145 -0.75226545 -0.8722351 -0.52575326 -0.14364785 -0.31351382 0.8801849 -0.7223246 -0.3271227 0.33801383 0.3105849 -0.7285458 0.8984863 0.5779065 0.8268541 -0.6937938 -0.98829794 0.21864174 0.81059694 -0.8732749 -0.7421322 -0.9170898 0.9027747 0.82607317 0.3975584 0.9220383 -0.28386205 0.4383269 0.67996085 0.4448021 -0.6450141 -0.9438198 0.86594975 -0.3293671 -0.2583968 -0.578713 0.7339607 0.9436058 -0.7429227 0.19106603 0.50790286 0.2600407 -0.90505517 0.44768518 0.26051855 -0.28993964 -0.7989353 -0.7382976 -0.18344407 -0.92704785 -0.7546607 0.7690079 -0.24674131 0.2615453 0.5772341 -0.748982 0.5510926 0.8089032 0.40525544 -0.76406324 0.3939547 0.79505825 0.5367366 -0.70995283 -0.4599514 -0.2620981 -0.6711366 0.63875073 -0.44605744 0.89179 0.8342139 -0.7565692 -0.78562224 0.7342141 0.8891383 -0.090930864 -0.49500078 0.8654859 -0.13922471 -0.49759448 -0.18394092 -0.87766623 -0.7410369 0.10621585 0.5244047 0.37844017 0.024058223 0.78752095 0.3618247 0.80900633 -0.47821358 0.7984024 -0.9058888 -0.8554216 -0.9068364 -0.35494846 -0.84319997 -0.6036904 0.9042927 0.091635376 -0.11074327 -0.025732026 0.6881312 -0.590453 0.29746282 -0.81246763 -0.60796344 -0.68722814 0.85283047 0.08159642 -0.8570137 -0.85794216 0.67010206 -0.41879058 0.44067448 0.8596295 0.43799293 -0.7416377 0.9268815 -0.1297234 0.23661724 0.48412475 0.67597175 0.9079261 -0.52665836 0.9106679 -0.102124974 -0.15129551 -0.10762298 -0.82400084 0.53838515 0.8150033 -0.63103 -0.043885425 0.0879776 0.42031255 0.8096905 -0.8219237 -0.8045856 0.57258767 0.6340139 -0.08463316 -0.7049768 0.8687426 0.46703827 -0.70616174 0.7590643 0.6358374 0.7428731 0.86755216 0.7167369 0.88154966 0.5573708 0.7230853 0.8245705 0.9620808 -0.3535139 0.981297 -0.30206078 0.80207324 0.20489988 0.77773166 0.85460097 -0.8102501 -0.556245 0.8425517 0.26068026 -0.58346665 -0.944479 -0.10337639 0.8890872 0.764282 -0.13533656 -0.90390754 0.3122697 -0.7101809 -0.45474708 -0.6176752 -0.90628725 -0.50176287 -0.6154723\n",
            "Modify the file: \"Input.java\" and press any key when ready, or \"q\" / \"quit\" / \"exit\" to exit\n",
            "\n",
            "Original name:\tfib\n",
            "\t(0.862086) predicted: ['fib']\n",
            "\t(0.070503) predicted: ['passed']\n",
            "\t(0.053168) predicted: ['fibonacci']\n",
            "\t(0.004733) predicted: ['notify', 'finished']\n",
            "\t(0.002228) predicted: ['test', 'install']\n",
            "\t(0.002152) predicted: ['recursion']\n",
            "\t(0.001625) predicted: ['do', 'work']\n",
            "\t(0.001418) predicted: ['dirty']\n",
            "\t(0.001142) predicted: ['on', 'construct']\n",
            "\t(0.000946) predicted: ['post', 'refresh']\n",
            "Attention:\n",
            "0.179626\tcontext: 0,(IntegerLiteralExpr1)^(BinaryExpr:equals)^(IfStmt)_(BlockStmt)_(ExpressionStmt)_(AssignExpr:assign0)_(BinaryExpr:plus)_(MethodCallExpr1)_(NameExpr2),fib\n",
            "0.124487\tcontext: 0,(IntegerLiteralExpr1)^(BinaryExpr:equals)^(IfStmt)_(BlockStmt)_(ExpressionStmt)_(AssignExpr:assign0)_(BinaryExpr:plus)_(MethodCallExpr0)_(NameExpr2),fib\n",
            "0.097062\tcontext: 1,(IntegerLiteralExpr1)^(BinaryExpr:minus1)^(MethodCallExpr)_(NameExpr2),fib\n",
            "0.071564\tcontext: memo,(NameExpr0)^(ArrayAccessExpr0)^(AssignExpr:assign)_(BinaryExpr:plus)_(MethodCallExpr0)_(NameExpr2),fib\n",
            "0.062463\tcontext: 2,(IntegerLiteralExpr1)^(BinaryExpr:minus1)^(MethodCallExpr)_(NameExpr2),fib\n",
            "0.051600\tcontext: fib,(NameExpr2)^(MethodCallExpr)^(BinaryExpr:plus1)_(MethodCallExpr1)_(NameExpr2),fib\n",
            "0.048680\tcontext: 0,(IntegerLiteralExpr1)^(BinaryExpr:equals)^(IfStmt)^(BlockStmt)_(ReturnStmt)_(ArrayAccessExpr0)_(NameExpr0),memo\n",
            "0.038082\tcontext: n,(NameExpr1)^(ArrayAccessExpr0)^(AssignExpr:assign)_(BinaryExpr:plus)_(MethodCallExpr0)_(NameExpr2),fib\n",
            "0.036671\tcontext: n,(NameExpr0)^(ReturnStmt)^(BlockStmt)^(IfStmt)^(BlockStmt)_(ReturnStmt)_(ArrayAccessExpr0)_(NameExpr0),memo\n",
            "0.035724\tcontext: memo,(NameExpr0)^(ArrayAccessExpr0)^(AssignExpr:assign)_(BinaryExpr:plus)_(MethodCallExpr1)_(NameExpr2),fib\n",
            "Code vector:\n",
            "-0.7774172 -0.6829488 0.34759438 -0.36831903 0.087064594 -0.18647297 0.36638728 -0.57099795 0.024005435 0.19034672 -0.62493545 -0.46472996 0.74782014 -0.6169015 0.58310604 0.90074074 -0.21227944 0.53065634 -0.1813743 0.65126884 -0.30770102 -0.6440961 -0.11546086 -0.56053835 -0.69328076 0.92351604 -0.37718588 -0.4940083 0.7018459 0.7164148 -0.3457747 -0.20817298 0.55694634 -0.5556698 -0.7856154 0.38723636 0.34805006 -0.21911687 -0.4423727 -0.51651716 0.12169738 -0.5809964 -0.068796024 -0.031928368 0.32068396 -0.78271794 -0.4547941 0.9177047 -0.8209546 -0.44427192 0.5688597 0.16711332 -0.12735137 -0.8965294 0.7288512 -0.32416087 0.2353569 0.05260898 0.1668121 -0.7830764 0.6092806 -0.3197866 0.6115614 0.19064032 0.7575357 0.76268065 0.3802493 0.02887331 -0.045831706 -0.351865 0.0965923 0.8799993 0.9232963 -0.19133106 0.5622108 0.421479 -0.051159658 0.14610179 -0.47383538 -0.24837393 0.07413598 0.34629917 -0.6168449 0.5489831 -0.544477 0.5291156 -0.5205483 0.14788213 0.72176516 -0.5455555 0.09714772 0.03215754 0.17238145 0.3436834 0.30739248 0.50392044 -0.4977286 0.5222347 0.45957178 0.8133596 0.26297793 0.5538138 -0.69906056 0.30686074 -0.86789453 0.52210784 0.53982663 -0.68791664 -0.3868374 -0.2136734 0.2890379 -0.37865323 0.1373678 0.14041859 0.3244364 -0.32294032 0.09109515 0.37101558 0.18814975 0.40266973 0.36297107 -0.081487074 -0.5236824 0.9563906 0.6205806 -0.61864364 0.33483046 -0.15319839 0.17133066 0.0046643466 -0.42288205 -0.27829033 -0.03298457 -0.7425803 0.6988874 -0.22878808 -0.046308756 0.108168095 -0.31657046 -0.769509 -0.42088622 0.41243875 0.26101953 -0.55999213 0.058632642 0.50014436 0.53064513 0.8377391 -0.15564775 -0.153804 -0.1907256 -0.8736299 0.5602821 0.54010093 0.738747 -0.09106748 0.16158755 -0.5501205 -0.7269176 0.5884295 -0.20176654 -0.69283503 0.79888004 0.2651856 0.8074541 -0.19157156 -0.12813742 -0.17713678 0.24097335 -0.5099275 -0.8645679 0.111456454 -0.27950874 -0.686303 -0.4051089 0.116003074 0.42183253 -0.22389525 0.9650309 -0.8132299 0.61765414 0.9373533 -0.09824383 0.8328769 0.2410307 0.75393385 0.56192017 0.2017095 0.50452435 -0.4084772 -0.48594892 -0.8730514 -0.21392332 0.109672934 0.33963972 -0.5437376 0.48018914 0.4401296 0.56148887 -0.0920174 0.7208969 -0.6068984 0.65606236 -0.14097027 -0.50742644 -0.71323884 -0.39230287 -0.82691693 0.17033222 0.35921922 -0.68669283 0.37318194 -0.08394322 -0.544223 -0.92270076 0.92292523 0.36114645 -0.5776587 -0.50240403 0.54692835 -0.83713543 0.15469706 -0.43837655 -0.25348204 0.37647563 -0.5479769 -0.39547366 -0.038806118 -0.75862813 -0.07225233 0.009536572 0.19378975 0.17694241 0.35118783 -0.61832947 0.46895546 0.50923073 0.06789335 0.5279187 0.18671122 0.4267552 0.09026706 0.0562955 -0.2788145 0.801939 -0.1824231 -0.41303512 0.5972956 -0.95430446 0.8354548 -0.6767005 -0.91791666 0.32520106 -0.15419206 -0.5512059 0.36558923 0.8169876 0.38286892 0.43410718 0.70182717 -0.2870439 -0.32766098 -0.48965806 -0.032459725 0.8220535 0.33434895 -0.00827053 0.6253118 0.7655364 -0.22400229 0.8085028 0.42136428 -0.118744604 0.79136336 0.680537 0.05496946 -0.68172586 -0.87248296 -0.41706675 -0.30934638 -0.8355076 -0.7622533 -0.36875212 -0.56762373 -0.31198263 -0.054286405 0.1517899 -0.94630766 -0.42111123 0.7747628 0.07802114 -0.5711237 -0.38106093 0.7016414 0.8209873 -0.39970803 0.076245196 -0.38058916 -0.78651726 0.6211716 0.6166882 -0.5576213 -0.56958055 -0.24177937 0.15382855 -0.66574526 -0.26131928 -0.6016282 0.053379007 -0.12350024 -0.74283916 -0.5173012 -0.08359156 -0.16782111 0.17115818 -0.29351127 0.63412213 -0.36861056 -0.098017834 -0.15656108 -0.41929793 0.70078504 0.17045633 -0.07293047 -0.7197294 -0.6272665 -0.45144114 -0.8362155 -0.6110943 -0.31201118 0.76071453 -0.49544424 -0.24783157 -0.48718414 -0.80168355 0.73093104 0.07832909 0.124366716 0.06855315 0.3805854 -0.6703986 0.10118908 -0.44826496 -0.36756748 0.44557184 0.58266246 -0.6864532 -0.13176928 -0.18387195 -0.894192 0.7954071 -0.31870002 0.3386222 -0.45043576 -0.32870507 -0.85604 -0.974759 0.38093603 -0.53940976 -0.32738048 -0.49461484 0.59197235 -0.0024003778 -0.7938948 0.93208665 0.34700903 -0.39724907 0.26699358 -0.111380756 -0.48088807 -0.5967366 0.085705556 0.12219116 0.17093328 0.35847187 0.6415882 -0.3771028 -0.64281046 -0.4269113 0.7029879 -0.1547054 -0.3346854 -0.24504575 -0.43321127\n",
            "Modify the file: \"Input.java\" and press any key when ready, or \"q\" / \"quit\" / \"exit\" to exit\n",
            "\n",
            "Original name:\tcalculate\n",
            "\t(0.806925) predicted: ['fibonacci']\n",
            "\t(0.168475) predicted: ['fib']\n",
            "\t(0.022476) predicted: ['fib', 'array']\n",
            "\t(0.001515) predicted: ['recursion']\n",
            "\t(0.000189) predicted: ['test', 'install']\n",
            "\t(0.000106) predicted: ['test', 'bit']\n",
            "\t(0.000089) predicted: ['do', 'work']\n",
            "\t(0.000085) predicted: ['passed']\n",
            "\t(0.000075) predicted: ['calculate']\n",
            "\t(0.000065) predicted: ['test', 'shift', 'right']\n",
            "Attention:\n",
            "0.198406\tcontext: 1,(IntegerLiteralExpr1)^(ArrayAccessExpr0)^(AssignExpr:assign)^(ExpressionStmt)^(BlockStmt)_(ReturnStmt)_(ArrayAccessExpr0)_(NameExpr0),fib\n",
            "0.068422\tcontext: fib,(NameExpr0)^(ArrayAccessExpr0)^(AssignExpr:assign)^(ExpressionStmt)^(BlockStmt)_(ReturnStmt)_(ArrayAccessExpr0)_(NameExpr0),fib\n",
            "0.064845\tcontext: n,(NameExpr0)^(ReturnStmt)^(BlockStmt)^(IfStmt)^(BlockStmt)_(ExpressionStmt)_(VariableDeclarationExpr)_(VariableDeclarator)_(VariableDeclaratorId0),fib\n",
            "0.057160\tcontext: n,(VariableDeclaratorId0)^(Parameter)^(MethodDeclaration)_(BlockStmt)_(ReturnStmt)_(ArrayAccessExpr0)_(NameExpr0),fib\n",
            "0.047299\tcontext: n,(NameExpr0)^(BinaryExpr:lessEquals)^(IfStmt)^(BlockStmt)_(ExpressionStmt)_(VariableDeclarationExpr)_(VariableDeclarator)_(VariableDeclaratorId0),fib\n",
            "0.040569\tcontext: int,(PrimitiveType1)^(Parameter)^(MethodDeclaration)_(BlockStmt)_(ReturnStmt)_(ArrayAccessExpr0)_(NameExpr0),fib\n",
            "0.040025\tcontext: i,(NameExpr0)^(BinaryExpr:lessEquals)^(ForStmt)^(BlockStmt)_(ReturnStmt)_(ArrayAccessExpr0)_(NameExpr1),n\n",
            "0.039001\tcontext: n,(VariableDeclaratorId0)^(Parameter)^(MethodDeclaration)_(BlockStmt)_(ExpressionStmt)_(VariableDeclarationExpr)_(VariableDeclarator)_(VariableDeclaratorId0),fib\n",
            "0.031478\tcontext: n,(NameExpr0)^(ReturnStmt)^(BlockStmt)^(IfStmt)^(BlockStmt)_(ExpressionStmt)_(AssignExpr:assign0)_(ArrayAccessExpr0)_(NameExpr0),fib\n",
            "0.030556\tcontext: METHOD_NAME,(NameExpr1)^(MethodDeclaration)_(BlockStmt)_(ReturnStmt)_(ArrayAccessExpr0)_(NameExpr0),fib\n",
            "Code vector:\n",
            "-0.397779 -0.7207603 0.47984678 -0.48430583 0.24948284 0.23908877 0.35482842 -0.75611854 -0.7521722 0.36685503 -0.64000213 -0.6709821 0.8853539 -0.51832473 0.12216899 0.8671472 0.26912072 0.81085914 0.12589028 0.66025007 0.026692968 -0.6114434 0.001144059 -0.7728438 -0.82958436 0.7001738 -0.63441586 -0.0997363 0.33845732 0.546199 -0.5890167 -0.32680616 0.22842017 -0.6126446 -0.47104773 -0.10636498 0.5832896 0.57135147 -0.43758023 -0.6287856 -0.21245752 -0.32893896 0.1294238 0.40817493 -0.42025298 -0.8343698 -0.63905686 0.976326 -0.807951 -0.52754223 0.29581764 0.16751783 -0.43661875 -0.73913705 0.5509341 -0.74269176 0.09378588 0.7620065 0.22481075 -0.72990054 0.530422 -0.32824993 0.55343086 0.11673513 0.82426095 0.8100086 0.7648805 -0.4039142 -0.5132851 -0.6229739 -0.18065986 0.49858776 0.5198591 -0.81870306 0.57850647 0.18549012 0.32931405 0.6527308 -0.7560476 0.13127182 -0.26160613 -0.0724941 -0.47738272 0.26187637 -0.44586778 0.5711596 -0.4896379 0.37571377 0.053808156 -0.8851522 0.56890565 0.008954216 -0.18110779 0.74076813 0.72308624 0.27889845 -0.020589836 0.49881086 0.8275358 0.86552304 0.5901286 0.39343178 -0.83797234 0.21436682 -0.72749037 0.49726683 0.680876 -0.30713838 -0.7613579 -0.72722197 -0.09703133 -0.096831106 0.3515921 0.4665563 -0.3645839 -0.15467213 0.666997 0.394189 0.75001454 -0.011758029 0.38207236 -0.2827796 -0.81895316 0.8486434 0.5954246 -0.8529182 0.7646619 -0.6102983 0.30454946 0.27854833 -0.4025804 -0.80557626 -0.5463941 -0.4693511 0.93708503 -0.544435 0.13358115 0.13878341 -0.8557815 -0.6851504 -0.44730553 0.8769473 0.162583 -0.91831267 0.25357276 0.8074502 0.5991 0.88247055 -0.15243985 -0.58014196 -0.40570277 -0.811224 0.91357005 0.5519848 0.83714586 0.53714764 0.77717376 -0.5360801 -0.61735845 0.7109672 -0.27809346 -0.85043424 0.19733615 -0.14536285 0.89287126 0.09374196 -0.51267314 0.09768987 0.053898018 -0.093967125 -0.906886 0.49853623 -0.4480049 -0.6603545 -0.6432094 -0.20838046 0.27744347 -0.8658952 0.7188433 -0.9470211 0.7078716 0.85797346 -0.4318859 0.70517015 -0.11296181 0.8159351 0.5202711 0.3590656 0.71921057 -0.13835904 -0.7841404 -0.67217946 -0.68687737 0.672105 0.15351073 -0.54789287 -0.022195831 0.55331606 0.345307 -0.27070427 0.9416091 0.013337031 0.81186587 -0.32154456 -0.8717151 -0.887613 0.15090704 -0.84220064 0.84504426 0.8636743 -0.91527224 0.31251794 0.22912301 -0.3360958 -0.7179774 0.9591112 0.03722281 -0.6824971 -0.78705233 0.5875406 -0.7394824 0.12738153 -0.57971394 -0.6731386 0.1770298 -0.26353225 -0.63448673 0.38650468 -0.7538589 0.093019694 0.35154673 0.75869334 0.5048646 -0.35177526 -0.5735956 0.31908667 0.6708837 0.52214664 0.8727904 -0.21997306 0.53983337 -0.76512975 -0.2442495 -0.21057494 0.76218027 -0.21464543 -0.63807595 0.8085259 -0.7204056 0.7509422 -0.21776202 -0.71928084 -0.5419214 -0.90011674 -0.57293224 0.5886419 0.7844671 -0.0067402497 0.12935263 0.9093108 -0.19050914 -0.808222 -0.7569035 -0.49728838 0.77763736 0.5099723 0.3755386 0.7057351 0.6746963 -0.26693362 0.9101869 0.64926565 -0.51841235 0.67932993 0.021624625 -0.110872865 -0.79915905 -0.76975954 -0.79685664 -0.499972 -0.76829904 -0.65835637 0.07730517 -0.8899146 -0.7881152 -0.23659602 0.55892086 -0.76256067 0.70486534 0.68251383 0.28749397 -0.9049036 0.43802246 0.21816397 0.5293708 -0.017125636 0.18190481 -0.8035754 -0.85642177 -0.041893475 0.68155307 -0.40346378 -0.87404037 -0.14556491 -0.34601727 -0.9488043 -0.5185699 -0.4516144 0.2102853 0.23534164 -0.6953109 -0.54172254 -0.0005497318 0.06837031 0.18081185 -0.6719717 0.46178547 -0.80446327 0.2561465 -0.056609858 -0.2385048 0.85468525 0.7231034 -0.012979537 -0.980543 -0.8336104 -0.035277486 -0.944604 -0.12855136 -0.1586117 0.52701014 -0.62066555 -0.73420966 0.22451587 -0.7380656 0.72979015 0.4107578 -0.11818854 -0.16081154 0.843964 -0.61895955 -0.20079932 -0.5240102 -0.5687457 0.27711216 0.7404752 -0.58728474 -0.4503504 -0.37615332 -0.7224585 0.6207638 -0.2971218 -0.086041935 -0.60164076 -0.16279659 -0.7389761 -0.8149941 0.65124446 -0.6087966 -0.20119333 0.64298964 0.7194155 0.075083144 -0.9607552 0.9375881 0.7202265 -0.8281779 -0.08695948 0.21697785 0.58806074 -0.65469867 -0.25107843 0.1623696 0.7106397 0.5637236 0.4003295 0.2704809 -0.8465544 -0.74496907 0.61582077 0.10084739 -0.6981391 -0.1884954 -0.33863398\n",
            "Modify the file: \"Input.java\" and press any key when ready, or \"q\" / \"quit\" / \"exit\" to exit\n",
            "\n",
            "Original name:\tbubble|sort\n",
            "\t(0.383305) predicted: ['reverse', 'array']\n",
            "\t(0.203511) predicted: ['sort']\n",
            "\t(0.092863) predicted: ['extracted']\n",
            "\t(0.065333) predicted: ['count', 'ones']\n",
            "\t(0.050499) predicted: ['permute']\n",
            "\t(0.047590) predicted: ['compute', 'size']\n",
            "\t(0.041762) predicted: ['max', 'index']\n",
            "\t(0.039912) predicted: ['pack']\n",
            "\t(0.038966) predicted: ['reverse']\n",
            "\t(0.036259) predicted: ['m']\n",
            "Attention:\n",
            "0.183532\tcontext: [],(ArrayBracketPair2)^(Parameter)^(MethodDeclaration)_(BlockStmt)_(ForStmt)_(BinaryExpr:less)_(BinaryExpr:minus)_(IntegerLiteralExpr1),1\n",
            "0.109118\tcontext: [],(ArrayBracketPair2)^(Parameter)^(MethodDeclaration)_(BlockStmt)_(ForStmt)_(BinaryExpr:less)_(BinaryExpr:minus)_(NameExpr0),n\n",
            "0.102999\tcontext: 0,(IntegerLiteralExpr1)^(VariableDeclarator)^(VariableDeclarationExpr)^(ForStmt)_(BlockStmt)_(ForStmt)_(BinaryExpr:less)_(BinaryExpr:minus)_(IntegerLiteralExpr1),1\n",
            "0.077544\tcontext: [],(ArrayBracketPair2)^(Parameter)^(MethodDeclaration)_(BlockStmt)_(ExpressionStmt)_(AssignExpr:assign0)_(FieldAccessExpr1)_(NameExpr0),array\n",
            "0.044459\tcontext: [],(ArrayBracketPair2)^(Parameter)^(MethodDeclaration)_(BlockStmt)_(ExpressionStmt)_(AssignExpr:assign0)_(FieldAccessExpr1)_(NameExpr2),length\n",
            "0.042891\tcontext: n,(NameExpr0)^(BinaryExpr:minus)^(BinaryExpr:minus)_(IntegerLiteralExpr1),1\n",
            "0.037599\tcontext: count,(NameExpr0)^(UnaryExpr:posIncrement)^(ForStmt)_(BlockStmt)_(ForStmt)_(BinaryExpr:less)_(BinaryExpr:minus)_(IntegerLiteralExpr1),1\n",
            "0.037047\tcontext: array,(VariableDeclaratorId0)^(Parameter)^(MethodDeclaration)_(BlockStmt)_(ExpressionStmt)_(AssignExpr:assign0)_(NameExpr0),n\n",
            "0.034480\tcontext: [],(ArrayBracketPair2)^(Parameter)^(MethodDeclaration)_(BlockStmt)_(ExpressionStmt)_(AssignExpr:assign0)_(NameExpr0),n\n",
            "0.022331\tcontext: void,(VoidType0)^(MethodDeclaration)_(NameExpr1),METHOD_NAME\n",
            "Code vector:\n",
            "0.5734073 -0.61398137 0.42359218 -0.50067383 -0.31744143 0.28601596 0.47893968 0.33539 -0.5896994 -0.31442124 -0.045689236 0.19512056 -0.1066357 0.8522155 0.32170594 0.14846724 -0.23422429 0.25661284 0.35416573 0.30487886 -0.5647065 0.48110425 0.13768789 0.42384893 0.3180273 -0.19174114 0.016844314 0.24200271 -0.40578648 -0.37588412 -0.47123432 0.95795405 -0.24340454 0.019658918 -0.5846294 0.1117049 0.31953198 0.79042125 -0.21061921 -0.012084896 0.027129278 -0.7052179 -0.20803191 0.7851061 0.31973124 0.1471774 -0.40819547 0.59318537 0.15727009 -0.25237408 -0.6992972 0.43370122 -0.08244527 0.84512913 0.515712 0.22130221 0.74716604 0.14718232 -0.24402003 0.9640225 -0.81216246 0.43394202 -0.6068374 0.18780479 -0.33113685 -0.11074837 -0.013787886 -0.32588968 -0.34781218 0.14330208 -0.7163792 -0.20241538 0.016024623 0.17852941 0.16787176 -0.2930765 -0.22273272 0.21848215 -0.13025798 0.017573822 0.33909956 -0.43587756 0.9817923 0.08937031 -0.29877588 0.020677427 0.6210325 -0.11339522 0.25942585 0.047393076 -0.3892953 -0.48249045 0.4958354 0.433446 0.13382526 -0.083155185 0.5155805 0.18507731 -0.32955062 0.13721105 -0.09669563 0.4278052 0.6687054 0.324258 0.2701174 -0.4102205 -0.34516954 0.25953588 -0.57815295 0.5607805 0.7304998 -0.120003134 0.15102322 0.41841003 -0.35558742 0.54676825 -0.5356031 0.062544815 -0.63493127 0.49986917 -0.35558113 0.43655837 -0.7462029 0.015955076 -0.047959752 -0.26736423 0.2152421 0.022326015 0.17483634 -0.6091092 0.47287837 0.58988464 0.75124913 -0.00027429592 -0.06425347 -0.23150644 0.3103322 -0.1225273 -0.29537314 -0.09208961 0.475537 0.30565706 0.1865918 -0.7884743 -0.6348081 -0.39119893 0.7734633 0.31785673 0.43138164 -0.44775012 0.30257583 -0.17981991 0.35829383 -0.3478813 0.36169496 0.09563969 0.08903176 -0.42365015 0.1167032 -0.0013458403 0.043600015 0.61135787 0.24487187 -0.37150684 0.10282005 0.47925118 -0.28120005 0.28022256 -0.5602463 -0.07883548 -0.51710397 0.45030373 -0.44254193 0.45029676 -0.1554276 -0.7565471 -0.47232893 -0.26045159 0.46728134 0.2008805 -0.68873304 0.33236554 0.11021455 -0.11097103 -0.48830575 -0.23327759 0.40618506 -0.2894272 0.6377839 0.107159324 0.2719746 -0.18498518 0.61108345 0.110306665 -0.21365607 0.3146438 0.44851667 0.21839046 -0.92966914 0.24058716 -0.117133714 -0.45769182 0.4783278 -0.2689868 -0.21190658 -0.29863882 0.27768692 -0.31384447 0.24590012 0.80441236 -0.25640967 0.056802146 -0.0026517622 -0.116877586 0.72277826 0.21490476 0.59253436 0.6148474 0.07725818 -0.93769836 0.28325543 -0.45476985 0.06948048 -0.072366044 -0.5666585 0.35773 0.86671764 0.012574082 0.51688415 -0.040327765 0.2513959 -0.007040607 0.20507197 0.009254202 -0.7774562 0.6167948 0.15669964 -0.02202424 0.06257993 0.27003706 0.80015004 -0.3074996 -0.42836958 -0.08555492 -0.044125773 -0.6806055 0.08308834 -0.23438084 0.7401028 0.53559494 0.10700212 0.059824407 -0.3876744 0.14880481 -0.17900927 0.106697865 -0.7762176 0.24354346 -0.4628915 0.05833393 -0.32294232 -0.4407443 -0.5120575 0.7407601 -0.13893285 0.016819492 -0.3664316 -0.113507025 0.14252321 -0.001025565 0.34012184 -0.1303435 0.31043008 0.17623842 0.09344335 -0.08441622 0.74612916 0.37756038 -0.40139654 -0.31370753 0.4406038 -0.022203475 0.24988541 -0.33710033 -0.3272059 -0.25706476 0.11484563 -0.2069051 -0.019017883 -0.32802078 -0.10432807 -0.17643635 0.025212735 0.060520872 0.07528144 -0.83493197 -0.4927969 -0.6458439 -0.28014714 -0.80481476 -0.09536102 0.5235477 -0.31267455 -0.62929875 -0.43372774 -0.59521097 -0.03828396 0.87726724 -0.11581355 -0.7251104 -0.05386279 0.78993034 0.5503899 -0.31414858 -0.69086945 0.2500045 0.37669617 0.3210966 0.35416174 -0.052633807 -0.8817674 0.64228266 0.40293923 -0.2815752 -0.56865925 -0.07452069 0.5057758 -0.51797044 0.30690774 -0.2651909 -0.30247587 0.30812317 -0.18245348 0.36803058 0.20569631 0.21337327 -0.18038207 0.40508336 -0.047849838 -0.09279617 -0.7748252 0.123872496 0.02696335 0.6066234 -0.14778376 -0.5331241 0.17608213 0.7307637 -0.6718548 0.10940439 0.33184877 0.04350014 -0.06357813 0.13079274 0.29119727 0.42775235 -0.4173375 0.48502672 0.8388312 0.22717354 0.7262291 -0.08089016 0.31700137 -0.01670111 -0.28721803 0.38158035 -0.49844062 -0.31065315 0.5223617 -0.07333407 -0.82486665 -0.6448157 -0.0051212097 0.32134926 -0.43730155 -0.5653955 -0.53643477 -0.1269381 -0.057015985 -0.5202465 0.27513033 -0.66790503 -0.3270128 -0.651635\n",
            "Modify the file: \"Input.java\" and press any key when ready, or \"q\" / \"quit\" / \"exit\" to exit\n",
            "q\n",
            "Exiting...\n"
          ]
        }
      ],
      "source": [
        "!python3 code2vec.py --load /content/models/java14_model/saved_model_iter8.release --predict --export_code_vectors"
      ]
    },
    {
      "cell_type": "markdown",
      "source": [],
      "metadata": {
        "id": "66HXdTYd0GKN"
      }
    },
    {
      "cell_type": "markdown",
      "metadata": {
        "id": "PoMKY49_Jayu"
      },
      "source": [
        "6. We'll start creating code vectors of multiple code snippets."
      ]
    },
    {
      "cell_type": "code",
      "execution_count": 10,
      "metadata": {
        "id": "ROlt3zOIM96L"
      },
      "outputs": [],
      "source": [
        "cv1 = '0.2585543 0.018499821 0.6259956 -0.91153747 0.28625304 -0.20867313 -0.6456262 -0.5417256 0.40780866 0.6872428 0.48593658 0.8046063 -0.058023423 0.9426887 0.50868416 -0.7689812 -0.048711807 0.8145132 0.90576255 -0.4059241 -0.74391127 0.48965168 0.8245069 -0.828656 -0.18502949 0.7901077 0.8317792 0.05958824 -0.41710785 -0.36823994 -0.8146068 0.96380293 -0.3221373 -0.09550524 0.23637187 -0.7828237 0.41440326 0.85837746 0.7160746 0.42710906 0.86026746 0.3378421 -0.70190024 0.7926471 0.056065813 -0.13136554 0.3117843 0.95096815 0.7354833 -0.82368445 -0.8954565 0.9326848 -0.3107828 0.9633174 0.72925025 0.47538608 -0.15830268 -0.26773548 -0.3451479 0.9110292 -0.9704323 0.89245063 -0.36032683 -0.8097078 0.75253177 -0.4276203 -0.794744 -0.82304156 -0.6887814 0.710863 0.56362087 -0.6238218 -0.8751205 -0.3165001 0.6918507 -0.1842415 -0.45120537 0.29107818 -0.5739533 0.73044753 0.3992608 -0.922578 0.988397 0.2824617 -0.8427991 0.38545176 0.4091736 -0.80609953 -0.5241765 -0.632769 -0.33627385 -0.59111744 0.7637336 -0.69234073 0.79987144 -0.67139256 0.52384675 0.8215902 0.26926327 0.39738202 0.7637237 0.908195 -0.06851485 0.45429832 0.45621157 -0.44760495 -0.83066213 0.660655 -0.8885989 0.9643333 0.91159624 -0.19610572 -0.6570193 0.9189955 0.6287755 0.6763586 0.57360035 0.8044622 0.15594709 0.86987257 0.74620265 0.12886605 -0.571202 -0.5838734 -0.86150956 -0.14513662 0.40013415 -0.8301816 -0.51929915 -0.030817315 -0.7183518 0.8380968 0.8911851 0.24828035 0.32295215 -0.71240085 0.09927705 0.6977972 -0.36181659 0.15715513 -0.37333328 -0.31196588 0.38934436 -0.92469656 -0.69620156 0.3070417 0.75838226 0.6762587 0.95085883 -0.17747968 0.8302594 -0.7904814 0.009289354 -0.6270039 0.70603025 -0.86139053 0.4391611 -0.49321458 0.11893147 0.35378498 -0.26304317 0.82954895 -0.7937252 -0.8962824 0.014315069 0.94419086 0.31369257 0.8396486 -0.90516067 -0.8517296 0.5741993 0.09025121 0.32149994 -0.407448 -0.8138652 -0.94876003 -0.90316546 0.04230091 0.88919353 0.862079 -0.8170335 -0.2836635 0.29817367 0.4657278 -0.8624352 -0.2972049 0.89199436 0.7192866 0.13736606 -0.45771334 0.42584896 -0.8733409 -0.5144834 0.8192859 -0.30608574 -0.7988642 0.8505364 0.2875224 -0.50170493 -0.52384514 -0.80618596 0.6278152 -0.3438828 0.76336145 -0.75226545 -0.8722351 -0.52575326 -0.14364785 -0.31351382 0.8801849 -0.7223246 -0.3271227 0.33801383 0.3105849 -0.7285458 0.8984863 0.5779065 0.8268541 -0.6937938 -0.98829794 0.21864174 0.81059694 -0.8732749 -0.7421322 -0.9170898 0.9027747 0.82607317 0.3975584 0.9220383 -0.28386205 0.4383269 0.67996085 0.4448021 -0.6450141 -0.9438198 0.86594975 -0.3293671 -0.2583968 -0.578713 0.7339607 0.9436058 -0.7429227 0.19106603 0.50790286 0.2600407 -0.90505517 0.44768518 0.26051855 -0.28993964 -0.7989353 -0.7382976 -0.18344407 -0.92704785 -0.7546607 0.7690079 -0.24674131 0.2615453 0.5772341 -0.748982 0.5510926 0.8089032 0.40525544 -0.76406324 0.3939547 0.79505825 0.5367366 -0.70995283 -0.4599514 -0.2620981 -0.6711366 0.63875073 -0.44605744 0.89179 0.8342139 -0.7565692 -0.78562224 0.7342141 0.8891383 -0.090930864 -0.49500078 0.8654859 -0.13922471 -0.49759448 -0.18394092 -0.87766623 -0.7410369 0.10621585 0.5244047 0.37844017 0.024058223 0.78752095 0.3618247 0.80900633 -0.47821358 0.7984024 -0.9058888 -0.8554216 -0.9068364 -0.35494846 -0.84319997 -0.6036904 0.9042927 0.091635376 -0.11074327 -0.025732026 0.6881312 -0.590453 0.29746282 -0.81246763 -0.60796344 -0.68722814 0.85283047 0.08159642 -0.8570137 -0.85794216 0.67010206 -0.41879058 0.44067448 0.8596295 0.43799293 -0.7416377 0.9268815 -0.1297234 0.23661724 0.48412475 0.67597175 0.9079261 -0.52665836 0.9106679 -0.102124974 -0.15129551 -0.10762298 -0.82400084 0.53838515 0.8150033 -0.63103 -0.043885425 0.0879776 0.42031255 0.8096905 -0.8219237 -0.8045856 0.57258767 0.6340139 -0.08463316 -0.7049768 0.8687426 0.46703827 -0.70616174 0.7590643 0.6358374 0.7428731 0.86755216 0.7167369 0.88154966 0.5573708 0.7230853 0.8245705 0.9620808 -0.3535139 0.981297 -0.30206078 0.80207324 0.20489988 0.77773166 0.85460097 -0.8102501 -0.556245 0.8425517 0.26068026 -0.58346665 -0.944479 -0.10337639 0.8890872 0.764282 -0.13533656 -0.90390754 0.3122697 -0.7101809 -0.45474708 -0.6176752 -0.90628725 -0.50176287 -0.6154723'.split(' ')\n",
        "cv2 = '0.2585543 0.018499821 0.6259956 -0.91153747 0.28625304 -0.20867313 -0.6456262 -0.5417256 0.40780866 0.6872428 0.48593658 0.8046063 -0.058023423 0.9426887 0.50868416 -0.7689812 -0.048711807 0.8145132 0.90576255 -0.4059241 -0.74391127 0.48965168 0.8245069 -0.828656 -0.18502949 0.7901077 0.8317792 0.05958824 -0.41710785 -0.36823994 -0.8146068 0.96380293 -0.3221373 -0.09550524 0.23637187 -0.7828237 0.41440326 0.85837746 0.7160746 0.42710906 0.86026746 0.3378421 -0.70190024 0.7926471 0.056065813 -0.13136554 0.3117843 0.95096815 0.7354833 -0.82368445 -0.8954565 0.9326848 -0.3107828 0.9633174 0.72925025 0.47538608 -0.15830268 -0.26773548 -0.3451479 0.9110292 -0.9704323 0.89245063 -0.36032683 -0.8097078 0.75253177 -0.4276203 -0.794744 -0.82304156 -0.6887814 0.710863 0.56362087 -0.6238218 -0.8751205 -0.3165001 0.6918507 -0.1842415 -0.45120537 0.29107818 -0.5739533 0.73044753 0.3992608 -0.922578 0.988397 0.2824617 -0.8427991 0.38545176 0.4091736 -0.80609953 -0.5241765 -0.632769 -0.33627385 -0.59111744 0.7637336 -0.69234073 0.79987144 -0.67139256 0.52384675 0.8215902 0.26926327 0.39738202 0.7637237 0.908195 -0.06851485 0.45429832 0.45621157 -0.44760495 -0.83066213 0.660655 -0.8885989 0.9643333 0.91159624 -0.19610572 -0.6570193 0.9189955 0.6287755 0.6763586 0.57360035 0.8044622 0.15594709 0.86987257 0.74620265 0.12886605 -0.571202 -0.5838734 -0.86150956 -0.14513662 0.40013415 -0.8301816 -0.51929915 -0.030817315 -0.7183518 0.8380968 0.8911851 0.24828035 0.32295215 -0.71240085 0.09927705 0.6977972 -0.36181659 0.15715513 -0.37333328 -0.31196588 0.38934436 -0.92469656 -0.69620156 0.3070417 0.75838226 0.6762587 0.95085883 -0.17747968 0.8302594 -0.7904814 0.009289354 -0.6270039 0.70603025 -0.86139053 0.4391611 -0.49321458 0.11893147 0.35378498 -0.26304317 0.82954895 -0.7937252 -0.8962824 0.014315069 0.94419086 0.31369257 0.8396486 -0.90516067 -0.8517296 0.5741993 0.09025121 0.32149994 -0.407448 -0.8138652 -0.94876003 -0.90316546 0.04230091 0.88919353 0.862079 -0.8170335 -0.2836635 0.29817367 0.4657278 -0.8624352 -0.2972049 0.89199436 0.7192866 0.13736606 -0.45771334 0.42584896 -0.8733409 -0.5144834 0.8192859 -0.30608574 -0.7988642 0.8505364 0.2875224 -0.50170493 -0.52384514 -0.80618596 0.6278152 -0.3438828 0.76336145 -0.75226545 -0.8722351 -0.52575326 -0.14364785 -0.31351382 0.8801849 -0.7223246 -0.3271227 0.33801383 0.3105849 -0.7285458 0.8984863 0.5779065 0.8268541 -0.6937938 -0.98829794 0.21864174 0.81059694 -0.8732749 -0.7421322 -0.9170898 0.9027747 0.82607317 0.3975584 0.9220383 -0.28386205 0.4383269 0.67996085 0.4448021 -0.6450141 -0.9438198 0.86594975 -0.3293671 -0.2583968 -0.578713 0.7339607 0.9436058 -0.7429227 0.19106603 0.50790286 0.2600407 -0.90505517 0.44768518 0.26051855 -0.28993964 -0.7989353 -0.7382976 -0.18344407 -0.92704785 -0.7546607 0.7690079 -0.24674131 0.2615453 0.5772341 -0.748982 0.5510926 0.8089032 0.40525544 -0.76406324 0.3939547 0.79505825 0.5367366 -0.70995283 -0.4599514 -0.2620981 -0.6711366 0.63875073 -0.44605744 0.89179 0.8342139 -0.7565692 -0.78562224 0.7342141 0.8891383 -0.090930864 -0.49500078 0.8654859 -0.13922471 -0.49759448 -0.18394092 -0.87766623 -0.7410369 0.10621585 0.5244047 0.37844017 0.024058223 0.78752095 0.3618247 0.80900633 -0.47821358 0.7984024 -0.9058888 -0.8554216 -0.9068364 -0.35494846 -0.84319997 -0.6036904 0.9042927 0.091635376 -0.11074327 -0.025732026 0.6881312 -0.590453 0.29746282 -0.81246763 -0.60796344 -0.68722814 0.85283047 0.08159642 -0.8570137 -0.85794216 0.67010206 -0.41879058 0.44067448 0.8596295 0.43799293 -0.7416377 0.9268815 -0.1297234 0.23661724 0.48412475 0.67597175 0.9079261 -0.52665836 0.9106679 -0.102124974 -0.15129551 -0.10762298 -0.82400084 0.53838515 0.8150033 -0.63103 -0.043885425 0.0879776 0.42031255 0.8096905 -0.8219237 -0.8045856 0.57258767 0.6340139 -0.08463316 -0.7049768 0.8687426 0.46703827 -0.70616174 0.7590643 0.6358374 0.7428731 0.86755216 0.7167369 0.88154966 0.5573708 0.7230853 0.8245705 0.9620808 -0.3535139 0.981297 -0.30206078 0.80207324 0.20489988 0.77773166 0.85460097 -0.8102501 -0.556245 0.8425517 0.26068026 -0.58346665 -0.944479 -0.10337639 0.8890872 0.764282 -0.13533656 -0.90390754 0.3122697 -0.7101809 -0.45474708 -0.6176752 -0.90628725 -0.50176287 -0.6154723'.split(' ')\n",
        "cv3 = '0.64085674 0.26927942 -0.35969922 -0.91668624 0.40962797 -0.28096685 -0.37260604 -0.19097356 -0.42043567 -0.7046634 0.8543717 0.84445506 0.7112858 -0.17980318 -0.57104194 -0.7828252 -0.18952648 0.37786424 0.41763747 0.15042794 -0.8408891 0.8915771 0.20520243 -0.30805695 0.8418504 -0.21542512 0.14446843 -0.044925258 0.7315006 -0.46648854 -0.48407412 0.9869007 -0.6109047 0.7908162 0.3226099 0.41831988 0.5356137 0.68038195 0.57228434 0.42292637 -0.47028345 -0.3983917 -0.7648041 0.9541754 -0.07896143 0.8307023 -0.84801316 -0.31932926 -0.6468329 0.4374559 -0.9201954 0.89046735 -0.8670378 0.9748081 0.7369414 0.60983074 0.53497297 0.5652022 -0.82059264 0.62499213 -0.45737225 0.86689097 0.33494782 -0.7866151 0.7469607 0.8035226 -0.84124815 -0.4766379 -0.57693505 0.6677401 0.5611316 -0.8471426 -0.8575764 0.848428 -0.7677578 -0.731183 -0.824506 0.56830704 0.61535037 0.41937605 0.84226096 0.48937154 0.98974156 0.7640389 -0.77748835 0.76318145 0.43432862 -0.7995367 0.14052515 0.40406746 -0.4022771 -0.47332895 0.2917288 0.8294605 0.73245037 -0.82690334 -0.6534426 0.8398461 0.34575978 -0.1978634 0.7279341 -0.39665088 0.89516085 0.63248783 0.35222578 0.15885296 -0.8238357 0.7641253 -0.9051316 0.9496112 0.9331714 -0.7851695 -0.7709392 0.93609464 0.5526683 0.53534997 0.5234579 0.6675478 0.2681948 0.2541061 0.7388793 0.37366223 -0.9325308 -0.2543518 -0.8458096 -0.07287607 -0.0042908303 -0.5907017 -0.20485765 0.32882127 -0.34366095 0.94285405 0.20771275 -0.6603 -0.6769309 -0.83092403 0.52944577 -0.6121964 0.42775825 -0.25453222 0.46666673 -0.24190307 0.33473867 -0.7990209 -0.9003285 0.33056217 0.90813637 0.21212144 0.31831992 -0.55864394 0.7702616 -0.801016 0.57846856 0.3021362 0.47443104 -0.28742674 0.2786219 -0.6151235 0.26839387 -0.5758486 -0.09055352 0.47722197 -0.3640077 -0.35710278 0.44879204 -0.40481865 -0.6207359 0.8527162 -0.78899777 -0.8287004 0.22374205 -0.5438854 0.15481032 0.3646948 -0.86172885 -0.9443176 -0.648882 0.40926474 0.39084154 0.436731 -0.9618014 -0.56245774 0.36746174 0.5130806 -0.89604765 0.6157977 0.9028075 -0.5665199 0.92359805 0.7984803 0.028557986 -0.7615072 0.03851212 0.76035357 -0.43177545 0.16700985 0.8802941 -0.27264988 -0.62287664 -0.77644026 -0.8337321 -0.36397523 0.463014 0.7913117 -0.8708223 -0.8656273 -0.23325412 -0.40054289 -0.77160454 0.971806 -0.7415015 -0.32963592 0.35145414 0.07140635 -0.42208865 -0.2984428 0.8115793 0.9232843 0.84992355 -0.97267693 0.27695775 0.66417265 0.22361773 0.536275 -0.45939088 0.49322027 0.4951241 0.12112917 -0.21108285 -0.51712054 0.8945055 0.7445245 0.40139207 -0.7247612 -0.51078886 0.76001203 -0.5814812 -0.7041414 -0.21263388 0.8317987 0.9625052 -0.8732361 0.26013947 0.6588808 0.8083617 -0.93147445 0.46291482 0.58333033 0.9531752 0.21137545 -0.78967726 -0.6603507 -0.7416351 -0.7732295 0.75537044 -0.67774683 -0.6380047 0.8715588 -0.5438829 0.15734836 0.7831819 -0.5859053 -0.3929082 -0.2348326 0.3133612 0.3841539 0.010711519 0.2681548 -0.04691407 -0.6076673 0.32487342 -0.43109918 -0.375454 -0.59027565 -0.49411002 -0.6658265 0.94250464 0.8660768 -0.040376693 0.04800275 0.86965996 0.42506644 -0.031015277 0.62407035 -0.82820624 -0.7116333 0.80354977 -0.846848 -0.3407349 -0.8691918 0.60347897 0.19585572 0.72444224 0.19423631 0.8110346 -0.9585937 0.10314174 -0.9164187 0.7600061 -0.21063545 0.45736766 0.853314 0.17580663 -0.2158648 -0.24826382 -0.6339583 0.18500401 0.77133644 -0.4636149 -0.94424087 0.39726168 0.9141704 -0.07756293 -0.451186 -0.8940801 0.87654185 -0.52640617 0.6831959 0.90839183 0.47692767 -0.9762948 0.90666807 0.8815176 -0.25154012 -0.30598906 0.70620763 0.9220693 0.49997342 0.90325606 -0.56232524 0.04668753 -0.7751556 0.63261545 0.8586767 0.7592151 0.03936059 0.5726447 0.2319431 0.68645203 0.5324965 -0.96415615 -0.8103707 -0.6658952 0.95349187 -0.19094291 -0.64404154 0.864409 0.43530205 -0.9101974 0.39095035 0.66879976 0.3413686 -0.54413843 0.8425757 0.8682939 0.24934267 0.72147727 0.81332004 0.9619962 0.8578371 0.9475158 -0.61144537 0.80278945 0.83866215 -0.90053487 0.83100116 -0.09780285 -0.71306396 0.9026545 0.77029896 0.13212173 -0.9024687 0.08855143 0.7992829 -0.82815117 0.28980917 -0.89632505 -0.48888975 -0.069916815 -0.8851899 0.885072 -0.94252527 -0.8605703 -0.6377934'.split(' ')\n",
        "cv4 = '0.5734073 -0.61398137 0.42359218 -0.50067383 -0.31744143 0.28601596 0.47893968 0.33539 -0.5896994 -0.31442124 -0.045689236 0.19512056 -0.1066357 0.8522155 0.32170594 0.14846724 -0.23422429 0.25661284 0.35416573 0.30487886 -0.5647065 0.48110425 0.13768789 0.42384893 0.3180273 -0.19174114 0.016844314 0.24200271 -0.40578648 -0.37588412 -0.47123432 0.95795405 -0.24340454 0.019658918 -0.5846294 0.1117049 0.31953198 0.79042125 -0.21061921 -0.012084896 0.027129278 -0.7052179 -0.20803191 0.7851061 0.31973124 0.1471774 -0.40819547 0.59318537 0.15727009 -0.25237408 -0.6992972 0.43370122 -0.08244527 0.84512913 0.515712 0.22130221 0.74716604 0.14718232 -0.24402003 0.9640225 -0.81216246 0.43394202 -0.6068374 0.18780479 -0.33113685 -0.11074837 -0.013787886 -0.32588968 -0.34781218 0.14330208 -0.7163792 -0.20241538 0.016024623 0.17852941 0.16787176 -0.2930765 -0.22273272 0.21848215 -0.13025798 0.017573822 0.33909956 -0.43587756 0.9817923 0.08937031 -0.29877588 0.020677427 0.6210325 -0.11339522 0.25942585 0.047393076 -0.3892953 -0.48249045 0.4958354 0.433446 0.13382526 -0.083155185 0.5155805 0.18507731 -0.32955062 0.13721105 -0.09669563 0.4278052 0.6687054 0.324258 0.2701174 -0.4102205 -0.34516954 0.25953588 -0.57815295 0.5607805 0.7304998 -0.120003134 0.15102322 0.41841003 -0.35558742 0.54676825 -0.5356031 0.062544815 -0.63493127 0.49986917 -0.35558113 0.43655837 -0.7462029 0.015955076 -0.047959752 -0.26736423 0.2152421 0.022326015 0.17483634 -0.6091092 0.47287837 0.58988464 0.75124913 -0.00027429592 -0.06425347 -0.23150644 0.3103322 -0.1225273 -0.29537314 -0.09208961 0.475537 0.30565706 0.1865918 -0.7884743 -0.6348081 -0.39119893 0.7734633 0.31785673 0.43138164 -0.44775012 0.30257583 -0.17981991 0.35829383 -0.3478813 0.36169496 0.09563969 0.08903176 -0.42365015 0.1167032 -0.0013458403 0.043600015 0.61135787 0.24487187 -0.37150684 0.10282005 0.47925118 -0.28120005 0.28022256 -0.5602463 -0.07883548 -0.51710397 0.45030373 -0.44254193 0.45029676 -0.1554276 -0.7565471 -0.47232893 -0.26045159 0.46728134 0.2008805 -0.68873304 0.33236554 0.11021455 -0.11097103 -0.48830575 -0.23327759 0.40618506 -0.2894272 0.6377839 0.107159324 0.2719746 -0.18498518 0.61108345 0.110306665 -0.21365607 0.3146438 0.44851667 0.21839046 -0.92966914 0.24058716 -0.117133714 -0.45769182 0.4783278 -0.2689868 -0.21190658 -0.29863882 0.27768692 -0.31384447 0.24590012 0.80441236 -0.25640967 0.056802146 -0.0026517622 -0.116877586 0.72277826 0.21490476 0.59253436 0.6148474 0.07725818 -0.93769836 0.28325543 -0.45476985 0.06948048 -0.072366044 -0.5666585 0.35773 0.86671764 0.012574082 0.51688415 -0.040327765 0.2513959 -0.007040607 0.20507197 0.009254202 -0.7774562 0.6167948 0.15669964 -0.02202424 0.06257993 0.27003706 0.80015004 -0.3074996 -0.42836958 -0.08555492 -0.044125773 -0.6806055 0.08308834 -0.23438084 0.7401028 0.53559494 0.10700212 0.059824407 -0.3876744 0.14880481 -0.17900927 0.106697865 -0.7762176 0.24354346 -0.4628915 0.05833393 -0.32294232 -0.4407443 -0.5120575 0.7407601 -0.13893285 0.016819492 -0.3664316 -0.113507025 0.14252321 -0.001025565 0.34012184 -0.1303435 0.31043008 0.17623842 0.09344335 -0.08441622 0.74612916 0.37756038 -0.40139654 -0.31370753 0.4406038 -0.022203475 0.24988541 -0.33710033 -0.3272059 -0.25706476 0.11484563 -0.2069051 -0.019017883 -0.32802078 -0.10432807 -0.17643635 0.025212735 0.060520872 0.07528144 -0.83493197 -0.4927969 -0.6458439 -0.28014714 -0.80481476 -0.09536102 0.5235477 -0.31267455 -0.62929875 -0.43372774 -0.59521097 -0.03828396 0.87726724 -0.11581355 -0.7251104 -0.05386279 0.78993034 0.5503899 -0.31414858 -0.69086945 0.2500045 0.37669617 0.3210966 0.35416174 -0.052633807 -0.8817674 0.64228266 0.40293923 -0.2815752 -0.56865925 -0.07452069 0.5057758 -0.51797044 0.30690774 -0.2651909 -0.30247587 0.30812317 -0.18245348 0.36803058 0.20569631 0.21337327 -0.18038207 0.40508336 -0.047849838 -0.09279617 -0.7748252 0.123872496 0.02696335 0.6066234 -0.14778376 -0.5331241 0.17608213 0.7307637 -0.6718548 0.10940439 0.33184877 0.04350014 -0.06357813 0.13079274 0.29119727 0.42775235 -0.4173375 0.48502672 0.8388312 0.22717354 0.7262291 -0.08089016 0.31700137 -0.01670111 -0.28721803 0.38158035 -0.49844062 -0.31065315 0.5223617 -0.07333407 -0.82486665 -0.6448157 -0.0051212097 0.32134926 -0.43730155 -0.5653955 -0.53643477 -0.1269381 -0.057015985 -0.5202465 0.27513033 -0.66790503 -0.3270128 -0.651635'.split(' ')"
      ]
    },
    {
      "cell_type": "markdown",
      "source": [
        "7. Next, we will calculate the cosine similarity of two code vectors."
      ],
      "metadata": {
        "id": "Qb8z7dpDcEBW"
      }
    },
    {
      "cell_type": "code",
      "execution_count": 11,
      "metadata": {
        "id": "8bZzaRSdMxB9",
        "colab": {
          "base_uri": "https://localhost:8080/"
        },
        "outputId": "cfc8dc41-78cc-443f-d5e4-3e9541e51966"
      },
      "outputs": [
        {
          "output_type": "stream",
          "name": "stdout",
          "text": [
            "Cosine Similarity of code 0001  and code 0001 is  1.000000\n",
            "Cosine Similarity of code 0001  and code 0002 is : 1.000000\n",
            "Cosine Similarity of code 0001  and code 0003 is  0.592724\n"
          ]
        }
      ],
      "source": [
        "# Code adapted from https://www.geeksforgeeks.org/how-to-calculate-cosine-similarity-in-python/\n",
        "# import required libraries\n",
        "import numpy as np\n",
        "from numpy.linalg import norm\n",
        "\n",
        "# convert the codevectors to numpy arrays\n",
        "A = np.array(cv1, dtype=float)\n",
        "B = np.array(cv1, dtype=float)\n",
        "\n",
        "# compute cosine similarity -- compare the same vector of the same code snippet\n",
        "cosine = np.dot(A,B)/(norm(A)*norm(B))\n",
        "print(\"Cosine Similarity of code 0001  and code 0001 is \",f\"{cosine:.6f}\")\n",
        "\n",
        "# convert the codevectors to numpy arrays\n",
        "A = np.array(cv1, dtype=float)\n",
        "B = np.array(cv2, dtype=float)\n",
        "\n",
        "# compute cosine similarity -- compare between two code snippets\n",
        "cosine = np.dot(A,B)/(norm(A)*norm(B))\n",
        "print(\"Cosine Similarity of code 0001  and code 0002 is :\",f\"{cosine:.6f}\")\n",
        "\n",
        "# convert the codevectors to numpy arrays\n",
        "A = np.array(cv1, dtype=float)\n",
        "B = np.array(cv3, dtype=float)\n",
        "\n",
        "# compute cosine similarity -- compare between two code snippets\n",
        "cosine = np.dot(A,B)/(norm(A)*norm(B))\n",
        "print(\"Cosine Similarity of code 0001  and code 0003 is \",f\"{cosine:.6f}\")\n"
      ]
    },
    {
      "cell_type": "markdown",
      "source": [
        "8. Write code to create a list of the 4 code vectors and compare all of them."
      ],
      "metadata": {
        "id": "LSEWSzFqcHea"
      }
    },
    {
      "cell_type": "code",
      "source": [
        "# Fill in this part\n",
        "#Nattawat Ruensumrit#\n",
        "#ETPCA-S0237#\n",
        "\n",
        "import numpy as np\n",
        "from numpy.linalg import norm\n",
        "\n",
        "\n",
        "file1 = \"0001\"\n",
        "file2 = \"0002\"\n",
        "file3 = \"0003\"\n",
        "file4 = \"0004\"\n",
        "\n",
        "#code vectors from cv1 till cv4 of multiple code snippets#\n",
        "cv1 = '0.2585543 0.018499821 0.6259956 -0.91153747 0.28625304 -0.20867313 -0.6456262 -0.5417256 0.40780866 0.6872428 0.48593658 0.8046063 -0.058023423 0.9426887 0.50868416 -0.7689812 -0.048711807 0.8145132 0.90576255 -0.4059241 -0.74391127 0.48965168 0.8245069 -0.828656 -0.18502949 0.7901077 0.8317792 0.05958824 -0.41710785 -0.36823994 -0.8146068 0.96380293 -0.3221373 -0.09550524 0.23637187 -0.7828237 0.41440326 0.85837746 0.7160746 0.42710906 0.86026746 0.3378421 -0.70190024 0.7926471 0.056065813 -0.13136554 0.3117843 0.95096815 0.7354833 -0.82368445 -0.8954565 0.9326848 -0.3107828 0.9633174 0.72925025 0.47538608 -0.15830268 -0.26773548 -0.3451479 0.9110292 -0.9704323 0.89245063 -0.36032683 -0.8097078 0.75253177 -0.4276203 -0.794744 -0.82304156 -0.6887814 0.710863 0.56362087 -0.6238218 -0.8751205 -0.3165001 0.6918507 -0.1842415 -0.45120537 0.29107818 -0.5739533 0.73044753 0.3992608 -0.922578 0.988397 0.2824617 -0.8427991 0.38545176 0.4091736 -0.80609953 -0.5241765 -0.632769 -0.33627385 -0.59111744 0.7637336 -0.69234073 0.79987144 -0.67139256 0.52384675 0.8215902 0.26926327 0.39738202 0.7637237 0.908195 -0.06851485 0.45429832 0.45621157 -0.44760495 -0.83066213 0.660655 -0.8885989 0.9643333 0.91159624 -0.19610572 -0.6570193 0.9189955 0.6287755 0.6763586 0.57360035 0.8044622 0.15594709 0.86987257 0.74620265 0.12886605 -0.571202 -0.5838734 -0.86150956 -0.14513662 0.40013415 -0.8301816 -0.51929915 -0.030817315 -0.7183518 0.8380968 0.8911851 0.24828035 0.32295215 -0.71240085 0.09927705 0.6977972 -0.36181659 0.15715513 -0.37333328 -0.31196588 0.38934436 -0.92469656 -0.69620156 0.3070417 0.75838226 0.6762587 0.95085883 -0.17747968 0.8302594 -0.7904814 0.009289354 -0.6270039 0.70603025 -0.86139053 0.4391611 -0.49321458 0.11893147 0.35378498 -0.26304317 0.82954895 -0.7937252 -0.8962824 0.014315069 0.94419086 0.31369257 0.8396486 -0.90516067 -0.8517296 0.5741993 0.09025121 0.32149994 -0.407448 -0.8138652 -0.94876003 -0.90316546 0.04230091 0.88919353 0.862079 -0.8170335 -0.2836635 0.29817367 0.4657278 -0.8624352 -0.2972049 0.89199436 0.7192866 0.13736606 -0.45771334 0.42584896 -0.8733409 -0.5144834 0.8192859 -0.30608574 -0.7988642 0.8505364 0.2875224 -0.50170493 -0.52384514 -0.80618596 0.6278152 -0.3438828 0.76336145 -0.75226545 -0.8722351 -0.52575326 -0.14364785 -0.31351382 0.8801849 -0.7223246 -0.3271227 0.33801383 0.3105849 -0.7285458 0.8984863 0.5779065 0.8268541 -0.6937938 -0.98829794 0.21864174 0.81059694 -0.8732749 -0.7421322 -0.9170898 0.9027747 0.82607317 0.3975584 0.9220383 -0.28386205 0.4383269 0.67996085 0.4448021 -0.6450141 -0.9438198 0.86594975 -0.3293671 -0.2583968 -0.578713 0.7339607 0.9436058 -0.7429227 0.19106603 0.50790286 0.2600407 -0.90505517 0.44768518 0.26051855 -0.28993964 -0.7989353 -0.7382976 -0.18344407 -0.92704785 -0.7546607 0.7690079 -0.24674131 0.2615453 0.5772341 -0.748982 0.5510926 0.8089032 0.40525544 -0.76406324 0.3939547 0.79505825 0.5367366 -0.70995283 -0.4599514 -0.2620981 -0.6711366 0.63875073 -0.44605744 0.89179 0.8342139 -0.7565692 -0.78562224 0.7342141 0.8891383 -0.090930864 -0.49500078 0.8654859 -0.13922471 -0.49759448 -0.18394092 -0.87766623 -0.7410369 0.10621585 0.5244047 0.37844017 0.024058223 0.78752095 0.3618247 0.80900633 -0.47821358 0.7984024 -0.9058888 -0.8554216 -0.9068364 -0.35494846 -0.84319997 -0.6036904 0.9042927 0.091635376 -0.11074327 -0.025732026 0.6881312 -0.590453 0.29746282 -0.81246763 -0.60796344 -0.68722814 0.85283047 0.08159642 -0.8570137 -0.85794216 0.67010206 -0.41879058 0.44067448 0.8596295 0.43799293 -0.7416377 0.9268815 -0.1297234 0.23661724 0.48412475 0.67597175 0.9079261 -0.52665836 0.9106679 -0.102124974 -0.15129551 -0.10762298 -0.82400084 0.53838515 0.8150033 -0.63103 -0.043885425 0.0879776 0.42031255 0.8096905 -0.8219237 -0.8045856 0.57258767 0.6340139 -0.08463316 -0.7049768 0.8687426 0.46703827 -0.70616174 0.7590643 0.6358374 0.7428731 0.86755216 0.7167369 0.88154966 0.5573708 0.7230853 0.8245705 0.9620808 -0.3535139 0.981297 -0.30206078 0.80207324 0.20489988 0.77773166 0.85460097 -0.8102501 -0.556245 0.8425517 0.26068026 -0.58346665 -0.944479 -0.10337639 0.8890872 0.764282 -0.13533656 -0.90390754 0.3122697 -0.7101809 -0.45474708 -0.6176752 -0.90628725 -0.50176287 -0.6154723'.split(' ')\n",
        "cv2 = '0.2585543 0.018499821 0.6259956 -0.91153747 0.28625304 -0.20867313 -0.6456262 -0.5417256 0.40780866 0.6872428 0.48593658 0.8046063 -0.058023423 0.9426887 0.50868416 -0.7689812 -0.048711807 0.8145132 0.90576255 -0.4059241 -0.74391127 0.48965168 0.8245069 -0.828656 -0.18502949 0.7901077 0.8317792 0.05958824 -0.41710785 -0.36823994 -0.8146068 0.96380293 -0.3221373 -0.09550524 0.23637187 -0.7828237 0.41440326 0.85837746 0.7160746 0.42710906 0.86026746 0.3378421 -0.70190024 0.7926471 0.056065813 -0.13136554 0.3117843 0.95096815 0.7354833 -0.82368445 -0.8954565 0.9326848 -0.3107828 0.9633174 0.72925025 0.47538608 -0.15830268 -0.26773548 -0.3451479 0.9110292 -0.9704323 0.89245063 -0.36032683 -0.8097078 0.75253177 -0.4276203 -0.794744 -0.82304156 -0.6887814 0.710863 0.56362087 -0.6238218 -0.8751205 -0.3165001 0.6918507 -0.1842415 -0.45120537 0.29107818 -0.5739533 0.73044753 0.3992608 -0.922578 0.988397 0.2824617 -0.8427991 0.38545176 0.4091736 -0.80609953 -0.5241765 -0.632769 -0.33627385 -0.59111744 0.7637336 -0.69234073 0.79987144 -0.67139256 0.52384675 0.8215902 0.26926327 0.39738202 0.7637237 0.908195 -0.06851485 0.45429832 0.45621157 -0.44760495 -0.83066213 0.660655 -0.8885989 0.9643333 0.91159624 -0.19610572 -0.6570193 0.9189955 0.6287755 0.6763586 0.57360035 0.8044622 0.15594709 0.86987257 0.74620265 0.12886605 -0.571202 -0.5838734 -0.86150956 -0.14513662 0.40013415 -0.8301816 -0.51929915 -0.030817315 -0.7183518 0.8380968 0.8911851 0.24828035 0.32295215 -0.71240085 0.09927705 0.6977972 -0.36181659 0.15715513 -0.37333328 -0.31196588 0.38934436 -0.92469656 -0.69620156 0.3070417 0.75838226 0.6762587 0.95085883 -0.17747968 0.8302594 -0.7904814 0.009289354 -0.6270039 0.70603025 -0.86139053 0.4391611 -0.49321458 0.11893147 0.35378498 -0.26304317 0.82954895 -0.7937252 -0.8962824 0.014315069 0.94419086 0.31369257 0.8396486 -0.90516067 -0.8517296 0.5741993 0.09025121 0.32149994 -0.407448 -0.8138652 -0.94876003 -0.90316546 0.04230091 0.88919353 0.862079 -0.8170335 -0.2836635 0.29817367 0.4657278 -0.8624352 -0.2972049 0.89199436 0.7192866 0.13736606 -0.45771334 0.42584896 -0.8733409 -0.5144834 0.8192859 -0.30608574 -0.7988642 0.8505364 0.2875224 -0.50170493 -0.52384514 -0.80618596 0.6278152 -0.3438828 0.76336145 -0.75226545 -0.8722351 -0.52575326 -0.14364785 -0.31351382 0.8801849 -0.7223246 -0.3271227 0.33801383 0.3105849 -0.7285458 0.8984863 0.5779065 0.8268541 -0.6937938 -0.98829794 0.21864174 0.81059694 -0.8732749 -0.7421322 -0.9170898 0.9027747 0.82607317 0.3975584 0.9220383 -0.28386205 0.4383269 0.67996085 0.4448021 -0.6450141 -0.9438198 0.86594975 -0.3293671 -0.2583968 -0.578713 0.7339607 0.9436058 -0.7429227 0.19106603 0.50790286 0.2600407 -0.90505517 0.44768518 0.26051855 -0.28993964 -0.7989353 -0.7382976 -0.18344407 -0.92704785 -0.7546607 0.7690079 -0.24674131 0.2615453 0.5772341 -0.748982 0.5510926 0.8089032 0.40525544 -0.76406324 0.3939547 0.79505825 0.5367366 -0.70995283 -0.4599514 -0.2620981 -0.6711366 0.63875073 -0.44605744 0.89179 0.8342139 -0.7565692 -0.78562224 0.7342141 0.8891383 -0.090930864 -0.49500078 0.8654859 -0.13922471 -0.49759448 -0.18394092 -0.87766623 -0.7410369 0.10621585 0.5244047 0.37844017 0.024058223 0.78752095 0.3618247 0.80900633 -0.47821358 0.7984024 -0.9058888 -0.8554216 -0.9068364 -0.35494846 -0.84319997 -0.6036904 0.9042927 0.091635376 -0.11074327 -0.025732026 0.6881312 -0.590453 0.29746282 -0.81246763 -0.60796344 -0.68722814 0.85283047 0.08159642 -0.8570137 -0.85794216 0.67010206 -0.41879058 0.44067448 0.8596295 0.43799293 -0.7416377 0.9268815 -0.1297234 0.23661724 0.48412475 0.67597175 0.9079261 -0.52665836 0.9106679 -0.102124974 -0.15129551 -0.10762298 -0.82400084 0.53838515 0.8150033 -0.63103 -0.043885425 0.0879776 0.42031255 0.8096905 -0.8219237 -0.8045856 0.57258767 0.6340139 -0.08463316 -0.7049768 0.8687426 0.46703827 -0.70616174 0.7590643 0.6358374 0.7428731 0.86755216 0.7167369 0.88154966 0.5573708 0.7230853 0.8245705 0.9620808 -0.3535139 0.981297 -0.30206078 0.80207324 0.20489988 0.77773166 0.85460097 -0.8102501 -0.556245 0.8425517 0.26068026 -0.58346665 -0.944479 -0.10337639 0.8890872 0.764282 -0.13533656 -0.90390754 0.3122697 -0.7101809 -0.45474708 -0.6176752 -0.90628725 -0.50176287 -0.6154723'.split(' ')\n",
        "cv3 = '0.64085674 0.26927942 -0.35969922 -0.91668624 0.40962797 -0.28096685 -0.37260604 -0.19097356 -0.42043567 -0.7046634 0.8543717 0.84445506 0.7112858 -0.17980318 -0.57104194 -0.7828252 -0.18952648 0.37786424 0.41763747 0.15042794 -0.8408891 0.8915771 0.20520243 -0.30805695 0.8418504 -0.21542512 0.14446843 -0.044925258 0.7315006 -0.46648854 -0.48407412 0.9869007 -0.6109047 0.7908162 0.3226099 0.41831988 0.5356137 0.68038195 0.57228434 0.42292637 -0.47028345 -0.3983917 -0.7648041 0.9541754 -0.07896143 0.8307023 -0.84801316 -0.31932926 -0.6468329 0.4374559 -0.9201954 0.89046735 -0.8670378 0.9748081 0.7369414 0.60983074 0.53497297 0.5652022 -0.82059264 0.62499213 -0.45737225 0.86689097 0.33494782 -0.7866151 0.7469607 0.8035226 -0.84124815 -0.4766379 -0.57693505 0.6677401 0.5611316 -0.8471426 -0.8575764 0.848428 -0.7677578 -0.731183 -0.824506 0.56830704 0.61535037 0.41937605 0.84226096 0.48937154 0.98974156 0.7640389 -0.77748835 0.76318145 0.43432862 -0.7995367 0.14052515 0.40406746 -0.4022771 -0.47332895 0.2917288 0.8294605 0.73245037 -0.82690334 -0.6534426 0.8398461 0.34575978 -0.1978634 0.7279341 -0.39665088 0.89516085 0.63248783 0.35222578 0.15885296 -0.8238357 0.7641253 -0.9051316 0.9496112 0.9331714 -0.7851695 -0.7709392 0.93609464 0.5526683 0.53534997 0.5234579 0.6675478 0.2681948 0.2541061 0.7388793 0.37366223 -0.9325308 -0.2543518 -0.8458096 -0.07287607 -0.0042908303 -0.5907017 -0.20485765 0.32882127 -0.34366095 0.94285405 0.20771275 -0.6603 -0.6769309 -0.83092403 0.52944577 -0.6121964 0.42775825 -0.25453222 0.46666673 -0.24190307 0.33473867 -0.7990209 -0.9003285 0.33056217 0.90813637 0.21212144 0.31831992 -0.55864394 0.7702616 -0.801016 0.57846856 0.3021362 0.47443104 -0.28742674 0.2786219 -0.6151235 0.26839387 -0.5758486 -0.09055352 0.47722197 -0.3640077 -0.35710278 0.44879204 -0.40481865 -0.6207359 0.8527162 -0.78899777 -0.8287004 0.22374205 -0.5438854 0.15481032 0.3646948 -0.86172885 -0.9443176 -0.648882 0.40926474 0.39084154 0.436731 -0.9618014 -0.56245774 0.36746174 0.5130806 -0.89604765 0.6157977 0.9028075 -0.5665199 0.92359805 0.7984803 0.028557986 -0.7615072 0.03851212 0.76035357 -0.43177545 0.16700985 0.8802941 -0.27264988 -0.62287664 -0.77644026 -0.8337321 -0.36397523 0.463014 0.7913117 -0.8708223 -0.8656273 -0.23325412 -0.40054289 -0.77160454 0.971806 -0.7415015 -0.32963592 0.35145414 0.07140635 -0.42208865 -0.2984428 0.8115793 0.9232843 0.84992355 -0.97267693 0.27695775 0.66417265 0.22361773 0.536275 -0.45939088 0.49322027 0.4951241 0.12112917 -0.21108285 -0.51712054 0.8945055 0.7445245 0.40139207 -0.7247612 -0.51078886 0.76001203 -0.5814812 -0.7041414 -0.21263388 0.8317987 0.9625052 -0.8732361 0.26013947 0.6588808 0.8083617 -0.93147445 0.46291482 0.58333033 0.9531752 0.21137545 -0.78967726 -0.6603507 -0.7416351 -0.7732295 0.75537044 -0.67774683 -0.6380047 0.8715588 -0.5438829 0.15734836 0.7831819 -0.5859053 -0.3929082 -0.2348326 0.3133612 0.3841539 0.010711519 0.2681548 -0.04691407 -0.6076673 0.32487342 -0.43109918 -0.375454 -0.59027565 -0.49411002 -0.6658265 0.94250464 0.8660768 -0.040376693 0.04800275 0.86965996 0.42506644 -0.031015277 0.62407035 -0.82820624 -0.7116333 0.80354977 -0.846848 -0.3407349 -0.8691918 0.60347897 0.19585572 0.72444224 0.19423631 0.8110346 -0.9585937 0.10314174 -0.9164187 0.7600061 -0.21063545 0.45736766 0.853314 0.17580663 -0.2158648 -0.24826382 -0.6339583 0.18500401 0.77133644 -0.4636149 -0.94424087 0.39726168 0.9141704 -0.07756293 -0.451186 -0.8940801 0.87654185 -0.52640617 0.6831959 0.90839183 0.47692767 -0.9762948 0.90666807 0.8815176 -0.25154012 -0.30598906 0.70620763 0.9220693 0.49997342 0.90325606 -0.56232524 0.04668753 -0.7751556 0.63261545 0.8586767 0.7592151 0.03936059 0.5726447 0.2319431 0.68645203 0.5324965 -0.96415615 -0.8103707 -0.6658952 0.95349187 -0.19094291 -0.64404154 0.864409 0.43530205 -0.9101974 0.39095035 0.66879976 0.3413686 -0.54413843 0.8425757 0.8682939 0.24934267 0.72147727 0.81332004 0.9619962 0.8578371 0.9475158 -0.61144537 0.80278945 0.83866215 -0.90053487 0.83100116 -0.09780285 -0.71306396 0.9026545 0.77029896 0.13212173 -0.9024687 0.08855143 0.7992829 -0.82815117 0.28980917 -0.89632505 -0.48888975 -0.069916815 -0.8851899 0.885072 -0.94252527 -0.8605703 -0.6377934'.split(' ')\n",
        "cv4 = '0.5734073 -0.61398137 0.42359218 -0.50067383 -0.31744143 0.28601596 0.47893968 0.33539 -0.5896994 -0.31442124 -0.045689236 0.19512056 -0.1066357 0.8522155 0.32170594 0.14846724 -0.23422429 0.25661284 0.35416573 0.30487886 -0.5647065 0.48110425 0.13768789 0.42384893 0.3180273 -0.19174114 0.016844314 0.24200271 -0.40578648 -0.37588412 -0.47123432 0.95795405 -0.24340454 0.019658918 -0.5846294 0.1117049 0.31953198 0.79042125 -0.21061921 -0.012084896 0.027129278 -0.7052179 -0.20803191 0.7851061 0.31973124 0.1471774 -0.40819547 0.59318537 0.15727009 -0.25237408 -0.6992972 0.43370122 -0.08244527 0.84512913 0.515712 0.22130221 0.74716604 0.14718232 -0.24402003 0.9640225 -0.81216246 0.43394202 -0.6068374 0.18780479 -0.33113685 -0.11074837 -0.013787886 -0.32588968 -0.34781218 0.14330208 -0.7163792 -0.20241538 0.016024623 0.17852941 0.16787176 -0.2930765 -0.22273272 0.21848215 -0.13025798 0.017573822 0.33909956 -0.43587756 0.9817923 0.08937031 -0.29877588 0.020677427 0.6210325 -0.11339522 0.25942585 0.047393076 -0.3892953 -0.48249045 0.4958354 0.433446 0.13382526 -0.083155185 0.5155805 0.18507731 -0.32955062 0.13721105 -0.09669563 0.4278052 0.6687054 0.324258 0.2701174 -0.4102205 -0.34516954 0.25953588 -0.57815295 0.5607805 0.7304998 -0.120003134 0.15102322 0.41841003 -0.35558742 0.54676825 -0.5356031 0.062544815 -0.63493127 0.49986917 -0.35558113 0.43655837 -0.7462029 0.015955076 -0.047959752 -0.26736423 0.2152421 0.022326015 0.17483634 -0.6091092 0.47287837 0.58988464 0.75124913 -0.00027429592 -0.06425347 -0.23150644 0.3103322 -0.1225273 -0.29537314 -0.09208961 0.475537 0.30565706 0.1865918 -0.7884743 -0.6348081 -0.39119893 0.7734633 0.31785673 0.43138164 -0.44775012 0.30257583 -0.17981991 0.35829383 -0.3478813 0.36169496 0.09563969 0.08903176 -0.42365015 0.1167032 -0.0013458403 0.043600015 0.61135787 0.24487187 -0.37150684 0.10282005 0.47925118 -0.28120005 0.28022256 -0.5602463 -0.07883548 -0.51710397 0.45030373 -0.44254193 0.45029676 -0.1554276 -0.7565471 -0.47232893 -0.26045159 0.46728134 0.2008805 -0.68873304 0.33236554 0.11021455 -0.11097103 -0.48830575 -0.23327759 0.40618506 -0.2894272 0.6377839 0.107159324 0.2719746 -0.18498518 0.61108345 0.110306665 -0.21365607 0.3146438 0.44851667 0.21839046 -0.92966914 0.24058716 -0.117133714 -0.45769182 0.4783278 -0.2689868 -0.21190658 -0.29863882 0.27768692 -0.31384447 0.24590012 0.80441236 -0.25640967 0.056802146 -0.0026517622 -0.116877586 0.72277826 0.21490476 0.59253436 0.6148474 0.07725818 -0.93769836 0.28325543 -0.45476985 0.06948048 -0.072366044 -0.5666585 0.35773 0.86671764 0.012574082 0.51688415 -0.040327765 0.2513959 -0.007040607 0.20507197 0.009254202 -0.7774562 0.6167948 0.15669964 -0.02202424 0.06257993 0.27003706 0.80015004 -0.3074996 -0.42836958 -0.08555492 -0.044125773 -0.6806055 0.08308834 -0.23438084 0.7401028 0.53559494 0.10700212 0.059824407 -0.3876744 0.14880481 -0.17900927 0.106697865 -0.7762176 0.24354346 -0.4628915 0.05833393 -0.32294232 -0.4407443 -0.5120575 0.7407601 -0.13893285 0.016819492 -0.3664316 -0.113507025 0.14252321 -0.001025565 0.34012184 -0.1303435 0.31043008 0.17623842 0.09344335 -0.08441622 0.74612916 0.37756038 -0.40139654 -0.31370753 0.4406038 -0.022203475 0.24988541 -0.33710033 -0.3272059 -0.25706476 0.11484563 -0.2069051 -0.019017883 -0.32802078 -0.10432807 -0.17643635 0.025212735 0.060520872 0.07528144 -0.83493197 -0.4927969 -0.6458439 -0.28014714 -0.80481476 -0.09536102 0.5235477 -0.31267455 -0.62929875 -0.43372774 -0.59521097 -0.03828396 0.87726724 -0.11581355 -0.7251104 -0.05386279 0.78993034 0.5503899 -0.31414858 -0.69086945 0.2500045 0.37669617 0.3210966 0.35416174 -0.052633807 -0.8817674 0.64228266 0.40293923 -0.2815752 -0.56865925 -0.07452069 0.5057758 -0.51797044 0.30690774 -0.2651909 -0.30247587 0.30812317 -0.18245348 0.36803058 0.20569631 0.21337327 -0.18038207 0.40508336 -0.047849838 -0.09279617 -0.7748252 0.123872496 0.02696335 0.6066234 -0.14778376 -0.5331241 0.17608213 0.7307637 -0.6718548 0.10940439 0.33184877 0.04350014 -0.06357813 0.13079274 0.29119727 0.42775235 -0.4173375 0.48502672 0.8388312 0.22717354 0.7262291 -0.08089016 0.31700137 -0.01670111 -0.28721803 0.38158035 -0.49844062 -0.31065315 0.5223617 -0.07333407 -0.82486665 -0.6448157 -0.0051212097 0.32134926 -0.43730155 -0.5653955 -0.53643477 -0.1269381 -0.057015985 -0.5202465 0.27513033 -0.66790503 -0.3270128 -0.651635'.split(' ')\n",
        "\n",
        "\n",
        "# convert the codevectors to numpy arrays\n",
        "A = np.array(cv1, dtype=float)\n",
        "B = np.array(cv1, dtype=float)\n",
        "\n",
        "# compute cosine similarity -- compare the same vector of the same code snippet\n",
        "cosine = np.dot(A,B)/(norm(A)*norm(B))\n",
        "print(f\"Cosine Similarity of code {file1} and code {file1} is: {cosine:.6f}\")\n",
        "\n",
        "# convert the codevectors to numpy arrays\n",
        "A = np.array(cv1, dtype=float)\n",
        "B = np.array(cv2, dtype=float)\n",
        "\n",
        "# compute cosine similarity -- compare between two code snippets\n",
        "cosine = np.dot(A,B)/(norm(A)*norm(B))\n",
        "print(f\"Cosine Similarity of code {file1} and code {file2} is: {cosine:.6f}\")\n",
        "\n",
        "# convert the codevectors to numpy arrays\n",
        "A = np.array(cv1, dtype=float)\n",
        "B = np.array(cv3, dtype=float)\n",
        "\n",
        "# compute cosine similarity -- compare between two code snippets\n",
        "cosine = np.dot(A,B)/(norm(A)*norm(B))\n",
        "print(f\"Cosine Similarity of code {file1} and code {file3} is: {cosine:.6f}\")\n",
        "\n",
        "A = np.array(cv1, dtype=float)\n",
        "B = np.array(cv4, dtype=float)\n",
        "cosine = np.dot(A,B)/(norm(A)*norm(B))\n",
        "print(f\"Cosine Similarity of code {file1} and code {file4} is: {cosine:.6f}\")\n",
        "\n",
        "\n",
        "A = np.array(cv2, dtype=float)\n",
        "B = np.array(cv1, dtype=float)\n",
        "cosine = np.dot(A,B)/(norm(A)*norm(B))\n",
        "print(f\"Cosine Similarity of code {file2} and code {file1} is: {cosine:.6f}\")\n",
        "\n",
        "A = np.array(cv2, dtype=float)\n",
        "B = np.array(cv2, dtype=float)\n",
        "cosine = np.dot(A,B)/(norm(A)*norm(B))\n",
        "print(f\"Cosine Similarity of code {file2} and code {file2} is: {cosine:.6f}\")\n",
        "\n",
        "A = np.array(cv2, dtype=float)\n",
        "B = np.array(cv3, dtype=float)\n",
        "cosine = np.dot(A,B)/(norm(A)*norm(B))\n",
        "print(f\"Cosine Similarity of code {file2} and code {file3} is: {cosine:.6f}\")\n",
        "\n",
        "A = np.array(cv2, dtype=float)\n",
        "B = np.array(cv4, dtype=float)\n",
        "cosine = np.dot(A,B)/(norm(A)*norm(B))\n",
        "print(f\"Cosine Similarity of code {file2} and code {file4} is: {cosine:.6f}\")\n",
        "\n",
        "A = np.array(cv3, dtype=float)\n",
        "B = np.array(cv1, dtype=float)\n",
        "cosine = np.dot(A,B)/(norm(A)*norm(B))\n",
        "print(f\"Cosine Similarity of code {file3} and code {file1} is: {cosine:.6f}\")\n",
        "\n",
        "A = np.array(cv3, dtype=float)\n",
        "B = np.array(cv2, dtype=float)\n",
        "cosine = np.dot(A,B)/(norm(A)*norm(B))\n",
        "print(f\"Cosine Similarity of code {file3} and code {file2} is: {cosine:.6f}\")\n",
        "\n",
        "A = np.array(cv3, dtype=float)\n",
        "B = np.array(cv3, dtype=float)\n",
        "cosine = np.dot(A,B)/(norm(A)*norm(B))\n",
        "print(f\"Cosine Similarity of code {file3} and code {file3} is: {cosine:.6f}\")\n",
        "\n",
        "A = np.array(cv3, dtype=float)\n",
        "B = np.array(cv4, dtype=float)\n",
        "cosine = np.dot(A,B)/(norm(A)*norm(B))\n",
        "print(f\"Cosine Similarity of code {file3} and code {file4} is: {cosine:.6f}\")\n",
        "\n",
        "A = np.array(cv4, dtype=float)\n",
        "B = np.array(cv1, dtype=float)\n",
        "cosine = np.dot(A,B)/(norm(A)*norm(B))\n",
        "print(f\"Cosine Similarity of code {file4} and code {file1} is: {cosine:.6f}\")\n",
        "\n",
        "A = np.array(cv4, dtype=float)\n",
        "B = np.array(cv2, dtype=float)\n",
        "cosine = np.dot(A,B)/(norm(A)*norm(B))\n",
        "print(f\"Cosine Similarity of code {file4} and code {file2} is: {cosine:.6f}\")\n",
        "\n",
        "A = np.array(cv4, dtype=float)\n",
        "B = np.array(cv3, dtype=float)\n",
        "cosine = np.dot(A,B)/(norm(A)*norm(B))\n",
        "print(f\"Cosine Similarity of code {file4} and code {file3} is: {cosine:.6f}\")\n",
        "\n",
        "A = np.array(cv4, dtype=float)\n",
        "B = np.array(cv4, dtype=float)\n",
        "cosine = np.dot(A,B)/(norm(A)*norm(B))\n",
        "print(f\"Cosine Similarity of code {file4} and code {file4} is: {cosine:.6f}\")\n",
        "\n"
      ],
      "metadata": {
        "id": "PyVpQplrYhxX",
        "colab": {
          "base_uri": "https://localhost:8080/"
        },
        "outputId": "cb1b20eb-4f8b-4bb6-c357-c631aafc40b2"
      },
      "execution_count": 12,
      "outputs": [
        {
          "output_type": "stream",
          "name": "stdout",
          "text": [
            "Cosine Similarity of code 0001 and code 0001 is: 1.000000\n",
            "Cosine Similarity of code 0001 and code 0002 is: 1.000000\n",
            "Cosine Similarity of code 0001 and code 0003 is: 0.592724\n",
            "Cosine Similarity of code 0001 and code 0004 is: 0.498676\n",
            "Cosine Similarity of code 0002 and code 0001 is: 1.000000\n",
            "Cosine Similarity of code 0002 and code 0002 is: 1.000000\n",
            "Cosine Similarity of code 0002 and code 0003 is: 0.592724\n",
            "Cosine Similarity of code 0002 and code 0004 is: 0.498676\n",
            "Cosine Similarity of code 0003 and code 0001 is: 0.592724\n",
            "Cosine Similarity of code 0003 and code 0002 is: 0.592724\n",
            "Cosine Similarity of code 0003 and code 0003 is: 1.000000\n",
            "Cosine Similarity of code 0003 and code 0004 is: 0.519821\n",
            "Cosine Similarity of code 0004 and code 0001 is: 0.498676\n",
            "Cosine Similarity of code 0004 and code 0002 is: 0.498676\n",
            "Cosine Similarity of code 0004 and code 0003 is: 0.519821\n",
            "Cosine Similarity of code 0004 and code 0004 is: 1.000000\n"
          ]
        }
      ]
    },
    {
      "cell_type": "code",
      "source": [],
      "metadata": {
        "id": "QbvOBba7kFrJ"
      },
      "execution_count": null,
      "outputs": []
    }
  ],
  "metadata": {
    "colab": {
      "provenance": [],
      "include_colab_link": true
    },
    "kernelspec": {
      "display_name": "Python 3",
      "name": "python3"
    },
    "language_info": {
      "name": "python"
    }
  },
  "nbformat": 4,
  "nbformat_minor": 0
}
